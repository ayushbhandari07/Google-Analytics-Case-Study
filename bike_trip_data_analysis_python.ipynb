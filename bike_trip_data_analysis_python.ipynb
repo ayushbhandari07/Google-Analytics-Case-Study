{
 "cells": [
  {
   "cell_type": "code",
   "execution_count": 1,
   "metadata": {},
   "outputs": [],
   "source": [
    "import pandas as pd"
   ]
  },
  {
   "cell_type": "code",
   "execution_count": 2,
   "metadata": {},
   "outputs": [],
   "source": [
    "data=pd.read_csv('sample_data.csv')"
   ]
  },
  {
   "cell_type": "code",
   "execution_count": 3,
   "metadata": {},
   "outputs": [
    {
     "data": {
      "text/html": [
       "<div>\n",
       "<style scoped>\n",
       "    .dataframe tbody tr th:only-of-type {\n",
       "        vertical-align: middle;\n",
       "    }\n",
       "\n",
       "    .dataframe tbody tr th {\n",
       "        vertical-align: top;\n",
       "    }\n",
       "\n",
       "    .dataframe thead th {\n",
       "        text-align: right;\n",
       "    }\n",
       "</style>\n",
       "<table border=\"1\" class=\"dataframe\">\n",
       "  <thead>\n",
       "    <tr style=\"text-align: right;\">\n",
       "      <th></th>\n",
       "      <th>ride_id</th>\n",
       "      <th>rideable_type</th>\n",
       "      <th>started_at</th>\n",
       "      <th>ended_at</th>\n",
       "      <th>start_station_name</th>\n",
       "      <th>start_station_id</th>\n",
       "      <th>end_station_name</th>\n",
       "      <th>end_station_id</th>\n",
       "      <th>start_lat</th>\n",
       "      <th>start_lng</th>\n",
       "      <th>end_lat</th>\n",
       "      <th>end_lng</th>\n",
       "      <th>member_casual</th>\n",
       "    </tr>\n",
       "  </thead>\n",
       "  <tbody>\n",
       "    <tr>\n",
       "      <th>0</th>\n",
       "      <td>6C992BD37A98A63F</td>\n",
       "      <td>classic_bike</td>\n",
       "      <td>2021-04-12 18:25:36</td>\n",
       "      <td>2021-04-12 18:56:55</td>\n",
       "      <td>State St &amp; Pearson St</td>\n",
       "      <td>TA1307000061</td>\n",
       "      <td>Southport Ave &amp; Waveland Ave</td>\n",
       "      <td>13235</td>\n",
       "      <td>41.897448</td>\n",
       "      <td>-87.628722</td>\n",
       "      <td>41.948150</td>\n",
       "      <td>-87.663940</td>\n",
       "      <td>member</td>\n",
       "    </tr>\n",
       "    <tr>\n",
       "      <th>1</th>\n",
       "      <td>1E0145613A209000</td>\n",
       "      <td>docked_bike</td>\n",
       "      <td>2021-04-27 17:27:11</td>\n",
       "      <td>2021-04-27 18:31:29</td>\n",
       "      <td>Dorchester Ave &amp; 49th St</td>\n",
       "      <td>KA1503000069</td>\n",
       "      <td>Dorchester Ave &amp; 49th St</td>\n",
       "      <td>KA1503000069</td>\n",
       "      <td>41.805772</td>\n",
       "      <td>-87.592464</td>\n",
       "      <td>41.805772</td>\n",
       "      <td>-87.592464</td>\n",
       "      <td>casual</td>\n",
       "    </tr>\n",
       "    <tr>\n",
       "      <th>2</th>\n",
       "      <td>E498E15508A80BAD</td>\n",
       "      <td>docked_bike</td>\n",
       "      <td>2021-04-03 12:42:45</td>\n",
       "      <td>2021-04-07 11:40:24</td>\n",
       "      <td>Loomis Blvd &amp; 84th St</td>\n",
       "      <td>20121</td>\n",
       "      <td>Loomis Blvd &amp; 84th St</td>\n",
       "      <td>20121</td>\n",
       "      <td>41.741487</td>\n",
       "      <td>-87.658410</td>\n",
       "      <td>41.741487</td>\n",
       "      <td>-87.658410</td>\n",
       "      <td>casual</td>\n",
       "    </tr>\n",
       "    <tr>\n",
       "      <th>3</th>\n",
       "      <td>1887262AD101C604</td>\n",
       "      <td>classic_bike</td>\n",
       "      <td>2021-04-17 09:17:42</td>\n",
       "      <td>2021-04-17 09:42:48</td>\n",
       "      <td>Honore St &amp; Division St</td>\n",
       "      <td>TA1305000034</td>\n",
       "      <td>Southport Ave &amp; Waveland Ave</td>\n",
       "      <td>13235</td>\n",
       "      <td>41.903119</td>\n",
       "      <td>-87.673935</td>\n",
       "      <td>41.948150</td>\n",
       "      <td>-87.663940</td>\n",
       "      <td>member</td>\n",
       "    </tr>\n",
       "    <tr>\n",
       "      <th>4</th>\n",
       "      <td>C123548CAB2A32A5</td>\n",
       "      <td>docked_bike</td>\n",
       "      <td>2021-04-03 12:42:25</td>\n",
       "      <td>2021-04-03 14:13:42</td>\n",
       "      <td>Loomis Blvd &amp; 84th St</td>\n",
       "      <td>20121</td>\n",
       "      <td>Loomis Blvd &amp; 84th St</td>\n",
       "      <td>20121</td>\n",
       "      <td>41.741487</td>\n",
       "      <td>-87.658410</td>\n",
       "      <td>41.741487</td>\n",
       "      <td>-87.658410</td>\n",
       "      <td>casual</td>\n",
       "    </tr>\n",
       "  </tbody>\n",
       "</table>\n",
       "</div>"
      ],
      "text/plain": [
       "            ride_id rideable_type           started_at             ended_at  \\\n",
       "0  6C992BD37A98A63F  classic_bike  2021-04-12 18:25:36  2021-04-12 18:56:55   \n",
       "1  1E0145613A209000   docked_bike  2021-04-27 17:27:11  2021-04-27 18:31:29   \n",
       "2  E498E15508A80BAD   docked_bike  2021-04-03 12:42:45  2021-04-07 11:40:24   \n",
       "3  1887262AD101C604  classic_bike  2021-04-17 09:17:42  2021-04-17 09:42:48   \n",
       "4  C123548CAB2A32A5   docked_bike  2021-04-03 12:42:25  2021-04-03 14:13:42   \n",
       "\n",
       "         start_station_name start_station_id              end_station_name  \\\n",
       "0     State St & Pearson St     TA1307000061  Southport Ave & Waveland Ave   \n",
       "1  Dorchester Ave & 49th St     KA1503000069      Dorchester Ave & 49th St   \n",
       "2     Loomis Blvd & 84th St            20121         Loomis Blvd & 84th St   \n",
       "3   Honore St & Division St     TA1305000034  Southport Ave & Waveland Ave   \n",
       "4     Loomis Blvd & 84th St            20121         Loomis Blvd & 84th St   \n",
       "\n",
       "  end_station_id  start_lat  start_lng    end_lat    end_lng member_casual  \n",
       "0          13235  41.897448 -87.628722  41.948150 -87.663940        member  \n",
       "1   KA1503000069  41.805772 -87.592464  41.805772 -87.592464        casual  \n",
       "2          20121  41.741487 -87.658410  41.741487 -87.658410        casual  \n",
       "3          13235  41.903119 -87.673935  41.948150 -87.663940        member  \n",
       "4          20121  41.741487 -87.658410  41.741487 -87.658410        casual  "
      ]
     },
     "execution_count": 3,
     "metadata": {},
     "output_type": "execute_result"
    }
   ],
   "source": [
    "data.head()"
   ]
  },
  {
   "cell_type": "code",
   "execution_count": 4,
   "metadata": {},
   "outputs": [],
   "source": [
    "# how many unique value are present and what are those unique values"
   ]
  },
  {
   "cell_type": "code",
   "execution_count": 5,
   "metadata": {},
   "outputs": [
    {
     "data": {
      "text/plain": [
       "3"
      ]
     },
     "execution_count": 5,
     "metadata": {},
     "output_type": "execute_result"
    }
   ],
   "source": [
    "data['rideable_type'].nunique()"
   ]
  },
  {
   "cell_type": "code",
   "execution_count": 6,
   "metadata": {},
   "outputs": [
    {
     "data": {
      "text/plain": [
       "array(['classic_bike', 'docked_bike', 'electric_bike'], dtype=object)"
      ]
     },
     "execution_count": 6,
     "metadata": {},
     "output_type": "execute_result"
    }
   ],
   "source": [
    "data['rideable_type'].unique()"
   ]
  },
  {
   "cell_type": "code",
   "execution_count": 7,
   "metadata": {},
   "outputs": [
    {
     "data": {
      "text/plain": [
       "3"
      ]
     },
     "execution_count": 7,
     "metadata": {},
     "output_type": "execute_result"
    }
   ],
   "source": [
    "data.rideable_type.nunique() #another method"
   ]
  },
  {
   "cell_type": "code",
   "execution_count": 8,
   "metadata": {},
   "outputs": [
    {
     "data": {
      "text/plain": [
       "array(['classic_bike', 'docked_bike', 'electric_bike'], dtype=object)"
      ]
     },
     "execution_count": 8,
     "metadata": {},
     "output_type": "execute_result"
    }
   ],
   "source": [
    "data.rideable_type.unique() #another method"
   ]
  },
  {
   "cell_type": "code",
   "execution_count": 9,
   "metadata": {},
   "outputs": [],
   "source": [
    "# what are the no.of rides taken across different types of rideable"
   ]
  },
  {
   "cell_type": "code",
   "execution_count": 10,
   "metadata": {},
   "outputs": [
    {
     "data": {
      "text/plain": [
       "classic_bike     214619\n",
       "electric_bike     97897\n",
       "docked_bike       24714\n",
       "Name: rideable_type, dtype: int64"
      ]
     },
     "execution_count": 10,
     "metadata": {},
     "output_type": "execute_result"
    }
   ],
   "source": [
    "data['rideable_type'].value_counts()"
   ]
  },
  {
   "cell_type": "code",
   "execution_count": null,
   "metadata": {},
   "outputs": [],
   "source": []
  },
  {
   "cell_type": "code",
   "execution_count": 11,
   "metadata": {},
   "outputs": [
    {
     "data": {
      "text/plain": [
       "classic_bike     214619\n",
       "electric_bike     97897\n",
       "docked_bike       24714\n",
       "Name: rideable_type, dtype: int64"
      ]
     },
     "execution_count": 11,
     "metadata": {},
     "output_type": "execute_result"
    }
   ],
   "source": [
    "data.rideable_type.value_counts() #another method"
   ]
  },
  {
   "cell_type": "code",
   "execution_count": null,
   "metadata": {},
   "outputs": [],
   "source": [
    "# density of start latitude and start longitude"
   ]
  },
  {
   "cell_type": "code",
   "execution_count": 25,
   "metadata": {},
   "outputs": [
    {
     "data": {
      "text/plain": [
       "<AxesSubplot:xlabel='start_lng', ylabel='start_lat'>"
      ]
     },
     "execution_count": 25,
     "metadata": {},
     "output_type": "execute_result"
    },
    {
     "data": {
      "image/png": "[encoded data removed]",
      "text/plain": [
       "<Figure size 432x288 with 1 Axes>"
      ]
     },
     "metadata": {},
     "output_type": "display_data"
    }
   ],
   "source": [
    "sns.scatterplot(x=data.start_lng,y=data.start_lat,alpha=0.05)"
   ]
  },
  {
   "cell_type": "code",
   "execution_count": 28,
   "metadata": {},
   "outputs": [],
   "source": [
    "# density of end latitude and end longitude"
   ]
  },
  {
   "cell_type": "code",
   "execution_count": 27,
   "metadata": {},
   "outputs": [
    {
     "data": {
      "text/plain": [
       "<AxesSubplot:xlabel='end_lng', ylabel='end_lat'>"
      ]
     },
     "execution_count": 27,
     "metadata": {},
     "output_type": "execute_result"
    },
    {
     "data": {
      "image/png": "[encoded data removed]",
      "text/plain": [
       "<Figure size 432x288 with 1 Axes>"
      ]
     },
     "metadata": {},
     "output_type": "display_data"
    }
   ],
   "source": [
    "sns.scatterplot(x=data.end_lng,y=data.end_lat,alpha=0.05)"
   ]
  },
  {
   "cell_type": "code",
   "execution_count": 12,
   "metadata": {},
   "outputs": [],
   "source": [
    "# how many values are missing in the dataset"
   ]
  },
  {
   "cell_type": "code",
   "execution_count": 13,
   "metadata": {},
   "outputs": [],
   "source": [
    "import seaborn as sns\n",
    "sns.set_theme(style=\"darkgrid\")"
   ]
  },
  {
   "cell_type": "code",
   "execution_count": 14,
   "metadata": {},
   "outputs": [
    {
     "data": {
      "text/plain": [
       "<AxesSubplot:>"
      ]
     },
     "execution_count": 14,
     "metadata": {},
     "output_type": "execute_result"
    },
    {
     "data": {
      "image/png": "[encoded data removed]",
      "text/plain": [
       "<Figure size 432x288 with 1 Axes>"
      ]
     },
     "metadata": {},
     "output_type": "display_data"
    }
   ],
   "source": [
    "sns.heatmap(data.isnull(),yticklabels=False,cbar=False,cmap='viridis')"
   ]
  },
  {
   "cell_type": "code",
   "execution_count": 15,
   "metadata": {},
   "outputs": [],
   "source": [
    "# start station name,start station id,end station name,end station id have a lot of missing values so these columns cant be included in analysis."
   ]
  },
  {
   "cell_type": "code",
   "execution_count": 16,
   "metadata": {},
   "outputs": [],
   "source": [
    "# what type of customers are and their numbers"
   ]
  },
  {
   "cell_type": "code",
   "execution_count": 17,
   "metadata": {},
   "outputs": [
    {
     "data": {
      "text/plain": [
       "member    200629\n",
       "casual    136601\n",
       "Name: member_casual, dtype: int64"
      ]
     },
     "execution_count": 17,
     "metadata": {},
     "output_type": "execute_result"
    }
   ],
   "source": [
    "data['member_casual'].value_counts()"
   ]
  },
  {
   "cell_type": "code",
   "execution_count": 18,
   "metadata": {},
   "outputs": [
    {
     "data": {
      "text/plain": [
       "member    200629\n",
       "casual    136601\n",
       "Name: member_casual, dtype: int64"
      ]
     },
     "execution_count": 18,
     "metadata": {},
     "output_type": "execute_result"
    }
   ],
   "source": [
    "data.member_casual.value_counts() #another method"
   ]
  },
  {
   "cell_type": "code",
   "execution_count": 19,
   "metadata": {},
   "outputs": [
    {
     "data": {
      "text/plain": [
       "<AxesSubplot:xlabel='member_casual', ylabel='count'>"
      ]
     },
     "execution_count": 19,
     "metadata": {},
     "output_type": "execute_result"
    },
    {
     "data": {
      "image/png": "[encoded data removed]",
      "text/plain": [
       "<Figure size 432x288 with 1 Axes>"
      ]
     },
     "metadata": {},
     "output_type": "display_data"
    }
   ],
   "source": [
    "sns.countplot(x='member_casual',data=data) #plot for members vs casual riders"
   ]
  },
  {
   "cell_type": "code",
   "execution_count": 20,
   "metadata": {},
   "outputs": [
    {
     "data": {
      "text/plain": [
       "<AxesSubplot:xlabel='rideable_type', ylabel='count'>"
      ]
     },
     "execution_count": 20,
     "metadata": {},
     "output_type": "execute_result"
    },
    {
     "data": {
      "image/png": "[encoded data removed]",
      "text/plain": [
       "<Figure size 432x288 with 1 Axes>"
      ]
     },
     "metadata": {},
     "output_type": "display_data"
    }
   ],
   "source": [
    "sns.countplot(x='rideable_type',hue='member_casual',data=data) #plot for rideable type preferred by member or casual riders"
   ]
  },
  {
   "cell_type": "code",
   "execution_count": 21,
   "metadata": {},
   "outputs": [],
   "source": [
    "# what are the preference rideable type of casual customers"
   ]
  },
  {
   "cell_type": "code",
   "execution_count": 22,
   "metadata": {},
   "outputs": [
    {
     "data": {
      "text/plain": [
       "classic_bike     70776\n",
       "electric_bike    41111\n",
       "docked_bike      24714\n",
       "Name: rideable_type, dtype: int64"
      ]
     },
     "execution_count": 22,
     "metadata": {},
     "output_type": "execute_result"
    }
   ],
   "source": [
    "data[data['member_casual'] == 'casual']['rideable_type'].value_counts()"
   ]
  },
  {
   "cell_type": "code",
   "execution_count": 23,
   "metadata": {},
   "outputs": [],
   "source": [
    "# what are the preference rideable type of members customers"
   ]
  },
  {
   "cell_type": "code",
   "execution_count": 24,
   "metadata": {},
   "outputs": [
    {
     "data": {
      "text/plain": [
       "classic_bike     143843\n",
       "electric_bike     56786\n",
       "Name: rideable_type, dtype: int64"
      ]
     },
     "execution_count": 24,
     "metadata": {},
     "output_type": "execute_result"
    }
   ],
   "source": [
    "data[data['member_casual'] == 'member']['rideable_type'].value_counts()"
   ]
  },
  {
   "cell_type": "raw",
   "metadata": {},
   "source": []
  },
  {
   "cell_type": "code",
   "execution_count": 25,
   "metadata": {},
   "outputs": [],
   "source": [
    "# converting series to datetime format to grab day of week ,initally it was pandas.series we can check by type(data['started_at'])"
   ]
  },
  {
   "cell_type": "code",
   "execution_count": 26,
   "metadata": {},
   "outputs": [],
   "source": [
    "data['started_at'] = pd.to_datetime(data['started_at']) "
   ]
  },
  {
   "cell_type": "code",
   "execution_count": 27,
   "metadata": {},
   "outputs": [],
   "source": [
    "data['ended_at'] = pd.to_datetime(data['ended_at']) "
   ]
  },
  {
   "cell_type": "code",
   "execution_count": 28,
   "metadata": {},
   "outputs": [
    {
     "data": {
      "text/plain": [
       "Timestamp('2021-04-12 18:25:36')"
      ]
     },
     "execution_count": 28,
     "metadata": {},
     "output_type": "execute_result"
    }
   ],
   "source": [
    "data.started_at[0]"
   ]
  },
  {
   "cell_type": "code",
   "execution_count": 29,
   "metadata": {},
   "outputs": [],
   "source": [
    "data['day_of_week'] = data['started_at'].dt.dayofweek # 0=monday,1=tuesday,==,6=sunday"
   ]
  },
  {
   "cell_type": "code",
   "execution_count": 30,
   "metadata": {},
   "outputs": [
    {
     "data": {
      "text/plain": [
       "4    58724\n",
       "5    54385\n",
       "1    52226\n",
       "6    50353\n",
       "0    43761\n",
       "3    40436\n",
       "2    37345\n",
       "Name: day_of_week, dtype: int64"
      ]
     },
     "execution_count": 30,
     "metadata": {},
     "output_type": "execute_result"
    }
   ],
   "source": [
    "data['day_of_week'].value_counts()"
   ]
  },
  {
   "cell_type": "code",
   "execution_count": 31,
   "metadata": {},
   "outputs": [
    {
     "data": {
      "text/plain": [
       "6"
      ]
     },
     "execution_count": 31,
     "metadata": {},
     "output_type": "execute_result"
    }
   ],
   "source": [
    "data['day_of_week'].max() # maximum no.of rides are occuring on sunday"
   ]
  },
  {
   "cell_type": "code",
   "execution_count": 32,
   "metadata": {},
   "outputs": [
    {
     "data": {
      "text/plain": [
       "0"
      ]
     },
     "execution_count": 32,
     "metadata": {},
     "output_type": "execute_result"
    }
   ],
   "source": [
    "data['day_of_week'].min() # minimum no.of rides occuring on monday"
   ]
  },
  {
   "cell_type": "code",
   "execution_count": 33,
   "metadata": {},
   "outputs": [],
   "source": [
    "# on sunday what type of rides are preferred by the customers"
   ]
  },
  {
   "cell_type": "code",
   "execution_count": 34,
   "metadata": {},
   "outputs": [
    {
     "data": {
      "text/plain": [
       "classic_bike     32125\n",
       "electric_bike    12776\n",
       "docked_bike       5452\n",
       "Name: rideable_type, dtype: int64"
      ]
     },
     "execution_count": 34,
     "metadata": {},
     "output_type": "execute_result"
    }
   ],
   "source": [
    "data[data['day_of_week'] == 6]['rideable_type'].value_counts()"
   ]
  },
  {
   "cell_type": "code",
   "execution_count": 35,
   "metadata": {},
   "outputs": [],
   "source": [
    "# who tend to travel more on sunday's (member or casual) "
   ]
  },
  {
   "cell_type": "code",
   "execution_count": 36,
   "metadata": {},
   "outputs": [
    {
     "data": {
      "text/plain": [
       "casual    25196\n",
       "member    25157\n",
       "Name: member_casual, dtype: int64"
      ]
     },
     "execution_count": 36,
     "metadata": {},
     "output_type": "execute_result"
    }
   ],
   "source": [
    "data[data['day_of_week'] == 6]['member_casual'].value_counts() # almost the no.of casual and member are same (casual > member)"
   ]
  },
  {
   "cell_type": "code",
   "execution_count": 37,
   "metadata": {},
   "outputs": [
    {
     "data": {
      "text/plain": [
       "member    27731\n",
       "casual    16030\n",
       "Name: member_casual, dtype: int64"
      ]
     },
     "execution_count": 37,
     "metadata": {},
     "output_type": "execute_result"
    }
   ],
   "source": [
    "data[data['day_of_week'] == 0]['member_casual'].value_counts() # monday (member > casual)"
   ]
  },
  {
   "cell_type": "code",
   "execution_count": 38,
   "metadata": {},
   "outputs": [
    {
     "data": {
      "text/plain": [
       "member    31849\n",
       "casual    20377\n",
       "Name: member_casual, dtype: int64"
      ]
     },
     "execution_count": 38,
     "metadata": {},
     "output_type": "execute_result"
    }
   ],
   "source": [
    "data[data['day_of_week'] == 1]['member_casual'].value_counts() # tuesday (member > casual)"
   ]
  },
  {
   "cell_type": "code",
   "execution_count": 39,
   "metadata": {},
   "outputs": [
    {
     "data": {
      "text/plain": [
       "member    25354\n",
       "casual    11991\n",
       "Name: member_casual, dtype: int64"
      ]
     },
     "execution_count": 39,
     "metadata": {},
     "output_type": "execute_result"
    }
   ],
   "source": [
    "data[data['day_of_week'] == 2]['member_casual'].value_counts() # wed (member > casual)"
   ]
  },
  {
   "cell_type": "code",
   "execution_count": 40,
   "metadata": {},
   "outputs": [
    {
     "data": {
      "text/plain": [
       "member    28086\n",
       "casual    12350\n",
       "Name: member_casual, dtype: int64"
      ]
     },
     "execution_count": 40,
     "metadata": {},
     "output_type": "execute_result"
    }
   ],
   "source": [
    "data[data['day_of_week'] == 3]['member_casual'].value_counts() # thrusday (member > casual)"
   ]
  },
  {
   "cell_type": "code",
   "execution_count": 41,
   "metadata": {},
   "outputs": [
    {
     "data": {
      "text/plain": [
       "member    35795\n",
       "casual    22929\n",
       "Name: member_casual, dtype: int64"
      ]
     },
     "execution_count": 41,
     "metadata": {},
     "output_type": "execute_result"
    }
   ],
   "source": [
    "data[data['day_of_week'] == 4]['member_casual'].value_counts() #friday (member > casual)"
   ]
  },
  {
   "cell_type": "code",
   "execution_count": 42,
   "metadata": {},
   "outputs": [
    {
     "data": {
      "text/plain": [
       "casual    27728\n",
       "member    26657\n",
       "Name: member_casual, dtype: int64"
      ]
     },
     "execution_count": 42,
     "metadata": {},
     "output_type": "execute_result"
    }
   ],
   "source": [
    "data[data['day_of_week'] == 5]['member_casual'].value_counts() #saturday (casual > member)"
   ]
  },
  {
   "cell_type": "code",
   "execution_count": 43,
   "metadata": {},
   "outputs": [],
   "source": [
    "# on weekends i.e saturday and sunday the number of causal riders is more than member riders"
   ]
  },
  {
   "cell_type": "code",
   "execution_count": null,
   "metadata": {},
   "outputs": [],
   "source": []
  },
  {
   "cell_type": "code",
   "execution_count": null,
   "metadata": {},
   "outputs": [],
   "source": []
  },
  {
   "cell_type": "code",
   "execution_count": 44,
   "metadata": {},
   "outputs": [
    {
     "data": {
      "text/html": [
       "<div>\n",
       "<style scoped>\n",
       "    .dataframe tbody tr th:only-of-type {\n",
       "        vertical-align: middle;\n",
       "    }\n",
       "\n",
       "    .dataframe tbody tr th {\n",
       "        vertical-align: top;\n",
       "    }\n",
       "\n",
       "    .dataframe thead th {\n",
       "        text-align: right;\n",
       "    }\n",
       "</style>\n",
       "<table border=\"1\" class=\"dataframe\">\n",
       "  <thead>\n",
       "    <tr style=\"text-align: right;\">\n",
       "      <th></th>\n",
       "      <th>ride_id</th>\n",
       "      <th>rideable_type</th>\n",
       "      <th>started_at</th>\n",
       "      <th>ended_at</th>\n",
       "      <th>start_station_name</th>\n",
       "      <th>start_station_id</th>\n",
       "      <th>end_station_name</th>\n",
       "      <th>end_station_id</th>\n",
       "      <th>start_lat</th>\n",
       "      <th>start_lng</th>\n",
       "      <th>end_lat</th>\n",
       "      <th>end_lng</th>\n",
       "      <th>member_casual</th>\n",
       "      <th>day_of_week</th>\n",
       "    </tr>\n",
       "  </thead>\n",
       "  <tbody>\n",
       "    <tr>\n",
       "      <th>0</th>\n",
       "      <td>6C992BD37A98A63F</td>\n",
       "      <td>classic_bike</td>\n",
       "      <td>2021-04-12 18:25:36</td>\n",
       "      <td>2021-04-12 18:56:55</td>\n",
       "      <td>State St &amp; Pearson St</td>\n",
       "      <td>TA1307000061</td>\n",
       "      <td>Southport Ave &amp; Waveland Ave</td>\n",
       "      <td>13235</td>\n",
       "      <td>41.897448</td>\n",
       "      <td>-87.628722</td>\n",
       "      <td>41.948150</td>\n",
       "      <td>-87.663940</td>\n",
       "      <td>member</td>\n",
       "      <td>0</td>\n",
       "    </tr>\n",
       "    <tr>\n",
       "      <th>1</th>\n",
       "      <td>1E0145613A209000</td>\n",
       "      <td>docked_bike</td>\n",
       "      <td>2021-04-27 17:27:11</td>\n",
       "      <td>2021-04-27 18:31:29</td>\n",
       "      <td>Dorchester Ave &amp; 49th St</td>\n",
       "      <td>KA1503000069</td>\n",
       "      <td>Dorchester Ave &amp; 49th St</td>\n",
       "      <td>KA1503000069</td>\n",
       "      <td>41.805772</td>\n",
       "      <td>-87.592464</td>\n",
       "      <td>41.805772</td>\n",
       "      <td>-87.592464</td>\n",
       "      <td>casual</td>\n",
       "      <td>1</td>\n",
       "    </tr>\n",
       "    <tr>\n",
       "      <th>2</th>\n",
       "      <td>E498E15508A80BAD</td>\n",
       "      <td>docked_bike</td>\n",
       "      <td>2021-04-03 12:42:45</td>\n",
       "      <td>2021-04-07 11:40:24</td>\n",
       "      <td>Loomis Blvd &amp; 84th St</td>\n",
       "      <td>20121</td>\n",
       "      <td>Loomis Blvd &amp; 84th St</td>\n",
       "      <td>20121</td>\n",
       "      <td>41.741487</td>\n",
       "      <td>-87.658410</td>\n",
       "      <td>41.741487</td>\n",
       "      <td>-87.658410</td>\n",
       "      <td>casual</td>\n",
       "      <td>5</td>\n",
       "    </tr>\n",
       "    <tr>\n",
       "      <th>3</th>\n",
       "      <td>1887262AD101C604</td>\n",
       "      <td>classic_bike</td>\n",
       "      <td>2021-04-17 09:17:42</td>\n",
       "      <td>2021-04-17 09:42:48</td>\n",
       "      <td>Honore St &amp; Division St</td>\n",
       "      <td>TA1305000034</td>\n",
       "      <td>Southport Ave &amp; Waveland Ave</td>\n",
       "      <td>13235</td>\n",
       "      <td>41.903119</td>\n",
       "      <td>-87.673935</td>\n",
       "      <td>41.948150</td>\n",
       "      <td>-87.663940</td>\n",
       "      <td>member</td>\n",
       "      <td>5</td>\n",
       "    </tr>\n",
       "    <tr>\n",
       "      <th>4</th>\n",
       "      <td>C123548CAB2A32A5</td>\n",
       "      <td>docked_bike</td>\n",
       "      <td>2021-04-03 12:42:25</td>\n",
       "      <td>2021-04-03 14:13:42</td>\n",
       "      <td>Loomis Blvd &amp; 84th St</td>\n",
       "      <td>20121</td>\n",
       "      <td>Loomis Blvd &amp; 84th St</td>\n",
       "      <td>20121</td>\n",
       "      <td>41.741487</td>\n",
       "      <td>-87.658410</td>\n",
       "      <td>41.741487</td>\n",
       "      <td>-87.658410</td>\n",
       "      <td>casual</td>\n",
       "      <td>5</td>\n",
       "    </tr>\n",
       "  </tbody>\n",
       "</table>\n",
       "</div>"
      ],
      "text/plain": [
       "            ride_id rideable_type          started_at            ended_at  \\\n",
       "0  6C992BD37A98A63F  classic_bike 2021-04-12 18:25:36 2021-04-12 18:56:55   \n",
       "1  1E0145613A209000   docked_bike 2021-04-27 17:27:11 2021-04-27 18:31:29   \n",
       "2  E498E15508A80BAD   docked_bike 2021-04-03 12:42:45 2021-04-07 11:40:24   \n",
       "3  1887262AD101C604  classic_bike 2021-04-17 09:17:42 2021-04-17 09:42:48   \n",
       "4  C123548CAB2A32A5   docked_bike 2021-04-03 12:42:25 2021-04-03 14:13:42   \n",
       "\n",
       "         start_station_name start_station_id              end_station_name  \\\n",
       "0     State St & Pearson St     TA1307000061  Southport Ave & Waveland Ave   \n",
       "1  Dorchester Ave & 49th St     KA1503000069      Dorchester Ave & 49th St   \n",
       "2     Loomis Blvd & 84th St            20121         Loomis Blvd & 84th St   \n",
       "3   Honore St & Division St     TA1305000034  Southport Ave & Waveland Ave   \n",
       "4     Loomis Blvd & 84th St            20121         Loomis Blvd & 84th St   \n",
       "\n",
       "  end_station_id  start_lat  start_lng    end_lat    end_lng member_casual  \\\n",
       "0          13235  41.897448 -87.628722  41.948150 -87.663940        member   \n",
       "1   KA1503000069  41.805772 -87.592464  41.805772 -87.592464        casual   \n",
       "2          20121  41.741487 -87.658410  41.741487 -87.658410        casual   \n",
       "3          13235  41.903119 -87.673935  41.948150 -87.663940        member   \n",
       "4          20121  41.741487 -87.658410  41.741487 -87.658410        casual   \n",
       "\n",
       "   day_of_week  \n",
       "0            0  \n",
       "1            1  \n",
       "2            5  \n",
       "3            5  \n",
       "4            5  "
      ]
     },
     "execution_count": 44,
     "metadata": {},
     "output_type": "execute_result"
    }
   ],
   "source": [
    "data.head()"
   ]
  },
  {
   "cell_type": "code",
   "execution_count": 45,
   "metadata": {},
   "outputs": [],
   "source": [
    "# finding some data using multiple conditions"
   ]
  },
  {
   "cell_type": "code",
   "execution_count": 46,
   "metadata": {},
   "outputs": [
    {
     "data": {
      "text/html": [
       "<div>\n",
       "<style scoped>\n",
       "    .dataframe tbody tr th:only-of-type {\n",
       "        vertical-align: middle;\n",
       "    }\n",
       "\n",
       "    .dataframe tbody tr th {\n",
       "        vertical-align: top;\n",
       "    }\n",
       "\n",
       "    .dataframe thead th {\n",
       "        text-align: right;\n",
       "    }\n",
       "</style>\n",
       "<table border=\"1\" class=\"dataframe\">\n",
       "  <thead>\n",
       "    <tr style=\"text-align: right;\">\n",
       "      <th></th>\n",
       "      <th>ride_id</th>\n",
       "      <th>rideable_type</th>\n",
       "      <th>started_at</th>\n",
       "      <th>ended_at</th>\n",
       "      <th>start_station_name</th>\n",
       "      <th>start_station_id</th>\n",
       "      <th>end_station_name</th>\n",
       "      <th>end_station_id</th>\n",
       "      <th>start_lat</th>\n",
       "      <th>start_lng</th>\n",
       "      <th>end_lat</th>\n",
       "      <th>end_lng</th>\n",
       "      <th>member_casual</th>\n",
       "      <th>day_of_week</th>\n",
       "    </tr>\n",
       "  </thead>\n",
       "  <tbody>\n",
       "    <tr>\n",
       "      <th>1</th>\n",
       "      <td>1E0145613A209000</td>\n",
       "      <td>docked_bike</td>\n",
       "      <td>2021-04-27 17:27:11</td>\n",
       "      <td>2021-04-27 18:31:29</td>\n",
       "      <td>Dorchester Ave &amp; 49th St</td>\n",
       "      <td>KA1503000069</td>\n",
       "      <td>Dorchester Ave &amp; 49th St</td>\n",
       "      <td>KA1503000069</td>\n",
       "      <td>41.805772</td>\n",
       "      <td>-87.592464</td>\n",
       "      <td>41.805772</td>\n",
       "      <td>-87.592464</td>\n",
       "      <td>casual</td>\n",
       "      <td>1</td>\n",
       "    </tr>\n",
       "  </tbody>\n",
       "</table>\n",
       "</div>"
      ],
      "text/plain": [
       "            ride_id rideable_type          started_at            ended_at  \\\n",
       "1  1E0145613A209000   docked_bike 2021-04-27 17:27:11 2021-04-27 18:31:29   \n",
       "\n",
       "         start_station_name start_station_id          end_station_name  \\\n",
       "1  Dorchester Ave & 49th St     KA1503000069  Dorchester Ave & 49th St   \n",
       "\n",
       "  end_station_id  start_lat  start_lng    end_lat    end_lng member_casual  \\\n",
       "1   KA1503000069  41.805772 -87.592464  41.805772 -87.592464        casual   \n",
       "\n",
       "   day_of_week  \n",
       "1            1  "
      ]
     },
     "execution_count": 46,
     "metadata": {},
     "output_type": "execute_result"
    }
   ],
   "source": [
    "data[(data['ride_id']=='1E0145613A209000')& (data['rideable_type'] == 'docked_bike') & (data['end_station_id'] == 'KA1503000069') & data['day_of_week']== 1]"
   ]
  },
  {
   "cell_type": "code",
   "execution_count": 47,
   "metadata": {},
   "outputs": [
    {
     "data": {
      "text/html": [
       "<div>\n",
       "<style scoped>\n",
       "    .dataframe tbody tr th:only-of-type {\n",
       "        vertical-align: middle;\n",
       "    }\n",
       "\n",
       "    .dataframe tbody tr th {\n",
       "        vertical-align: top;\n",
       "    }\n",
       "\n",
       "    .dataframe thead th {\n",
       "        text-align: right;\n",
       "    }\n",
       "</style>\n",
       "<table border=\"1\" class=\"dataframe\">\n",
       "  <thead>\n",
       "    <tr style=\"text-align: right;\">\n",
       "      <th></th>\n",
       "      <th>ride_id</th>\n",
       "      <th>rideable_type</th>\n",
       "      <th>started_at</th>\n",
       "      <th>ended_at</th>\n",
       "      <th>start_station_name</th>\n",
       "      <th>start_station_id</th>\n",
       "      <th>end_station_name</th>\n",
       "      <th>end_station_id</th>\n",
       "      <th>start_lat</th>\n",
       "      <th>start_lng</th>\n",
       "      <th>end_lat</th>\n",
       "      <th>end_lng</th>\n",
       "      <th>member_casual</th>\n",
       "      <th>day_of_week</th>\n",
       "    </tr>\n",
       "  </thead>\n",
       "  <tbody>\n",
       "    <tr>\n",
       "      <th>0</th>\n",
       "      <td>6C992BD37A98A63F</td>\n",
       "      <td>classic_bike</td>\n",
       "      <td>2021-04-12 18:25:36</td>\n",
       "      <td>2021-04-12 18:56:55</td>\n",
       "      <td>State St &amp; Pearson St</td>\n",
       "      <td>TA1307000061</td>\n",
       "      <td>Southport Ave &amp; Waveland Ave</td>\n",
       "      <td>13235</td>\n",
       "      <td>41.897448</td>\n",
       "      <td>-87.628722</td>\n",
       "      <td>41.948150</td>\n",
       "      <td>-87.663940</td>\n",
       "      <td>member</td>\n",
       "      <td>0</td>\n",
       "    </tr>\n",
       "    <tr>\n",
       "      <th>1</th>\n",
       "      <td>1E0145613A209000</td>\n",
       "      <td>docked_bike</td>\n",
       "      <td>2021-04-27 17:27:11</td>\n",
       "      <td>2021-04-27 18:31:29</td>\n",
       "      <td>Dorchester Ave &amp; 49th St</td>\n",
       "      <td>KA1503000069</td>\n",
       "      <td>Dorchester Ave &amp; 49th St</td>\n",
       "      <td>KA1503000069</td>\n",
       "      <td>41.805772</td>\n",
       "      <td>-87.592464</td>\n",
       "      <td>41.805772</td>\n",
       "      <td>-87.592464</td>\n",
       "      <td>casual</td>\n",
       "      <td>1</td>\n",
       "    </tr>\n",
       "    <tr>\n",
       "      <th>2</th>\n",
       "      <td>E498E15508A80BAD</td>\n",
       "      <td>docked_bike</td>\n",
       "      <td>2021-04-03 12:42:45</td>\n",
       "      <td>2021-04-07 11:40:24</td>\n",
       "      <td>Loomis Blvd &amp; 84th St</td>\n",
       "      <td>20121</td>\n",
       "      <td>Loomis Blvd &amp; 84th St</td>\n",
       "      <td>20121</td>\n",
       "      <td>41.741487</td>\n",
       "      <td>-87.658410</td>\n",
       "      <td>41.741487</td>\n",
       "      <td>-87.658410</td>\n",
       "      <td>casual</td>\n",
       "      <td>5</td>\n",
       "    </tr>\n",
       "    <tr>\n",
       "      <th>3</th>\n",
       "      <td>1887262AD101C604</td>\n",
       "      <td>classic_bike</td>\n",
       "      <td>2021-04-17 09:17:42</td>\n",
       "      <td>2021-04-17 09:42:48</td>\n",
       "      <td>Honore St &amp; Division St</td>\n",
       "      <td>TA1305000034</td>\n",
       "      <td>Southport Ave &amp; Waveland Ave</td>\n",
       "      <td>13235</td>\n",
       "      <td>41.903119</td>\n",
       "      <td>-87.673935</td>\n",
       "      <td>41.948150</td>\n",
       "      <td>-87.663940</td>\n",
       "      <td>member</td>\n",
       "      <td>5</td>\n",
       "    </tr>\n",
       "    <tr>\n",
       "      <th>4</th>\n",
       "      <td>C123548CAB2A32A5</td>\n",
       "      <td>docked_bike</td>\n",
       "      <td>2021-04-03 12:42:25</td>\n",
       "      <td>2021-04-03 14:13:42</td>\n",
       "      <td>Loomis Blvd &amp; 84th St</td>\n",
       "      <td>20121</td>\n",
       "      <td>Loomis Blvd &amp; 84th St</td>\n",
       "      <td>20121</td>\n",
       "      <td>41.741487</td>\n",
       "      <td>-87.658410</td>\n",
       "      <td>41.741487</td>\n",
       "      <td>-87.658410</td>\n",
       "      <td>casual</td>\n",
       "      <td>5</td>\n",
       "    </tr>\n",
       "  </tbody>\n",
       "</table>\n",
       "</div>"
      ],
      "text/plain": [
       "            ride_id rideable_type          started_at            ended_at  \\\n",
       "0  6C992BD37A98A63F  classic_bike 2021-04-12 18:25:36 2021-04-12 18:56:55   \n",
       "1  1E0145613A209000   docked_bike 2021-04-27 17:27:11 2021-04-27 18:31:29   \n",
       "2  E498E15508A80BAD   docked_bike 2021-04-03 12:42:45 2021-04-07 11:40:24   \n",
       "3  1887262AD101C604  classic_bike 2021-04-17 09:17:42 2021-04-17 09:42:48   \n",
       "4  C123548CAB2A32A5   docked_bike 2021-04-03 12:42:25 2021-04-03 14:13:42   \n",
       "\n",
       "         start_station_name start_station_id              end_station_name  \\\n",
       "0     State St & Pearson St     TA1307000061  Southport Ave & Waveland Ave   \n",
       "1  Dorchester Ave & 49th St     KA1503000069      Dorchester Ave & 49th St   \n",
       "2     Loomis Blvd & 84th St            20121         Loomis Blvd & 84th St   \n",
       "3   Honore St & Division St     TA1305000034  Southport Ave & Waveland Ave   \n",
       "4     Loomis Blvd & 84th St            20121         Loomis Blvd & 84th St   \n",
       "\n",
       "  end_station_id  start_lat  start_lng    end_lat    end_lng member_casual  \\\n",
       "0          13235  41.897448 -87.628722  41.948150 -87.663940        member   \n",
       "1   KA1503000069  41.805772 -87.592464  41.805772 -87.592464        casual   \n",
       "2          20121  41.741487 -87.658410  41.741487 -87.658410        casual   \n",
       "3          13235  41.903119 -87.673935  41.948150 -87.663940        member   \n",
       "4          20121  41.741487 -87.658410  41.741487 -87.658410        casual   \n",
       "\n",
       "   day_of_week  \n",
       "0            0  \n",
       "1            1  \n",
       "2            5  \n",
       "3            5  \n",
       "4            5  "
      ]
     },
     "execution_count": 47,
     "metadata": {},
     "output_type": "execute_result"
    }
   ],
   "source": [
    "data.head()"
   ]
  },
  {
   "cell_type": "code",
   "execution_count": 48,
   "metadata": {},
   "outputs": [],
   "source": [
    "# calculating the journey in minutes\n"
   ]
  },
  {
   "cell_type": "code",
   "execution_count": 49,
   "metadata": {},
   "outputs": [],
   "source": [
    "data['journey_time'] = data['ended_at'] - data['started_at']"
   ]
  },
  {
   "cell_type": "code",
   "execution_count": 50,
   "metadata": {},
   "outputs": [
    {
     "data": {
      "text/plain": [
       "0        0 days 00:31:19\n",
       "1        0 days 01:04:18\n",
       "2        3 days 22:57:39\n",
       "3        0 days 00:25:06\n",
       "4        0 days 01:31:17\n",
       "               ...      \n",
       "337225   0 days 00:07:13\n",
       "337226   0 days 01:14:03\n",
       "337227   0 days 00:57:04\n",
       "337228   0 days 00:05:26\n",
       "337229   0 days 00:18:51\n",
       "Name: journey_time, Length: 337230, dtype: timedelta64[ns]"
      ]
     },
     "execution_count": 50,
     "metadata": {},
     "output_type": "execute_result"
    }
   ],
   "source": [
    "data['journey_time']"
   ]
  },
  {
   "cell_type": "code",
   "execution_count": 51,
   "metadata": {},
   "outputs": [
    {
     "data": {
      "text/plain": [
       "Timedelta('33 days 04:16:42')"
      ]
     },
     "execution_count": 51,
     "metadata": {},
     "output_type": "execute_result"
    }
   ],
   "source": [
    "data['journey_time'].max() #maximum journey duration someone must have rented the bike for a month or more"
   ]
  },
  {
   "cell_type": "code",
   "execution_count": null,
   "metadata": {},
   "outputs": [],
   "source": []
  },
  {
   "cell_type": "code",
   "execution_count": null,
   "metadata": {},
   "outputs": [],
   "source": []
  },
  {
   "cell_type": "code",
   "execution_count": null,
   "metadata": {},
   "outputs": [],
   "source": []
  },
  {
   "cell_type": "code",
   "execution_count": 52,
   "metadata": {},
   "outputs": [],
   "source": [
    "# counting how many rides are taken from each station"
   ]
  },
  {
   "cell_type": "code",
   "execution_count": 53,
   "metadata": {},
   "outputs": [
    {
     "data": {
      "text/plain": [
       "681"
      ]
     },
     "execution_count": 53,
     "metadata": {},
     "output_type": "execute_result"
    }
   ],
   "source": [
    "data['start_station_name'].nunique()"
   ]
  },
  {
   "cell_type": "code",
   "execution_count": 54,
   "metadata": {},
   "outputs": [
    {
     "data": {
      "text/plain": [
       "array(['State St & Pearson St', 'Dorchester Ave & 49th St',\n",
       "       'Loomis Blvd & 84th St', 'Honore St & Division St',\n",
       "       'Clinton St & Polk St', 'Ashland Ave & 63rd St',\n",
       "       'Halsted St & 69th St', 'Damen Ave & Cortland St',\n",
       "       'Indiana Ave & Roosevelt Rd', 'Lincoln Ave & Waveland Ave',\n",
       "       'Wood St & Chicago Ave', 'MLK Jr Dr & 29th St',\n",
       "       'Southport Ave & Waveland Ave', 'Racine Ave & Fullerton Ave',\n",
       "       'MLK Jr Dr & 63rd St', 'Richmond St & Diversey Ave',\n",
       "       'Broadway & Berwyn Ave', 'Broadway & Ridge Ave',\n",
       "       'Racine Ave & Congress Pkwy', 'Western Ave & Howard St',\n",
       "       'Marshfield Ave & 59th St', 'Clark St & Berwyn Ave',\n",
       "       'Central Park Ave & 24th St', 'Franklin St & Monroe St',\n",
       "       'New St & Illinois St', 'Cottage Grove Ave & 67th St',\n",
       "       'Halsted St & 73rd St', 'Lake Park Ave & 53rd St',\n",
       "       'Halsted St & Maxwell St', 'Orleans St & Hubbard St',\n",
       "       'Racine Ave & 13th St', 'Greenwood Ave & 79th St',\n",
       "       'Albany Ave & 26th St', 'Millennium Park', 'Halsted St & 35th St',\n",
       "       'Dodge Ave & Mulford St', 'Lawndale Ave & 111th St',\n",
       "       'Wells St & Polk St', 'Ellis Ave & 58th St',\n",
       "       'Racine Ave & 15th St', 'Clarendon Ave & Junior Ter',\n",
       "       'Central Park Ave & Elbridge Ave', 'Wells St & Concord Ln',\n",
       "       'Broadway & Sheridan Rd', 'State St & 33rd St',\n",
       "       'Damen Ave & Sunnyside Ave', 'Dearborn St & Adams St',\n",
       "       'Indiana Ave & 26th St', 'Clark St & Chicago Ave',\n",
       "       'California Ave & Division St', 'Franklin St & Illinois St',\n",
       "       'Larrabee St & Webster Ave', 'Hermitage Ave & Polk St',\n",
       "       'Ravenswood Ave & Irving Park Rd', 'Wabash Ave & Wacker Pl',\n",
       "       'Paulina Ave & North Ave', 'Ritchie Ct & Banks St',\n",
       "       'Halsted St & Wrightwood Ave', 'Lincoln Park Conservatory',\n",
       "       'St. Louis Ave & Balmoral Ave', 'Ravenswood Ave & Berteau Ave',\n",
       "       'Campbell Ave & Montrose Ave', 'Drake Ave & Montrose Ave',\n",
       "       'Field Museum', 'Leavitt St & Archer Ave', 'Michigan Ave & 8th St',\n",
       "       'Rush St & Hubbard St', 'Washtenaw Ave & Ogden Ave',\n",
       "       'Cottage Grove Ave & 63rd St', 'State St & Harrison St',\n",
       "       'St. Louis Ave & Fullerton Ave',\n",
       "       'Cottage Grove Ave & Oakwood Blvd', 'Burnham Harbor',\n",
       "       'Albany Ave & Bloomingdale Ave', 'Sedgwick St & Webster Ave',\n",
       "       'McCormick Place', 'Western Ave & Leland Ave',\n",
       "       'Elston Ave & Wabansia Ave', 'Damen Ave & Grand Ave',\n",
       "       'Halsted St & Willow St', 'Orleans St & Chestnut St (NEXT Apts)',\n",
       "       'Shore Dr & 55th St', 'Clinton St & Lake St',\n",
       "       'Damen Ave & Foster Ave', 'Lake Shore Dr & Monroe St',\n",
       "       'Seeley Ave & Roscoe St', 'Southport Ave & Clybourn Ave',\n",
       "       'Lakefront Trail & Bryn Mawr Ave', 'Michigan Ave & Lake St',\n",
       "       'Clark St & Lake St', 'Sheffield Ave & Waveland Ave',\n",
       "       'Campbell Ave & North Ave', 'Damen Ave & Madison St',\n",
       "       'Drake Ave & Addison St', 'Stony Island Ave & South Chicago Ave',\n",
       "       'Kenton Ave & Madison St', 'Stony Island Ave & 71st St',\n",
       "       'Prairie Ave & Garfield Blvd', 'Cottage Grove Ave & 71st St',\n",
       "       'Oakley Ave & Irving Park Rd', 'Stetson Ave & South Water St',\n",
       "       'Wacker Dr & Washington St', 'Stony Island Ave & 75th St',\n",
       "       'Rockwell St & Eastwood Ave', 'Smith Park',\n",
       "       'Ashland Ave & Grand Ave', 'Western Ave & 24th St',\n",
       "       'Elizabeth (May) St & Fulton St', 'Morgan Ave & 14th Pl',\n",
       "       'Wood St & Taylor St (Temp)', 'Dusable Harbor',\n",
       "       'Michigan Ave & Madison St', 'Clark St & Jarvis Ave',\n",
       "       'Ashland Ave & 50th St', 'Wabash Ave & 87th St',\n",
       "       'Paulina St & 18th St', 'Evanston Civic Center',\n",
       "       'Michigan Ave & 114th St', 'Larrabee St & Oak St',\n",
       "       'Halsted St & 21st St', 'Hoyne Ave & 47th St',\n",
       "       'Pulaski Rd & Eddy St (Temp)', 'Cherry Ave & Blackhawk St',\n",
       "       'Keystone Ave & Fullerton Ave', 'Wallace St & 35th St',\n",
       "       'Shields Ave & 28th Pl', 'South Shore Dr & 74th St',\n",
       "       'Calumet Ave & 18th St', 'Southport Ave & Belmont Ave',\n",
       "       'State St & Randolph St', nan, 'Larrabee St & Armitage Ave',\n",
       "       'Clark St & Leland Ave', 'Clark St & Grace St',\n",
       "       'Michigan Ave & Oak St', 'Wells St & Walton St',\n",
       "       'Desplaines St & Kinzie St', 'Dearborn St & Erie St',\n",
       "       'Greenview Ave & Fullerton Ave', 'Clarendon Ave & Gordon Ter',\n",
       "       'State St & 19th St', 'Dearborn St & Monroe St',\n",
       "       'Aberdeen St & Jackson Blvd', 'Kingsbury St & Kinzie St',\n",
       "       'Hale Ave & 107th St', 'Ashland Ave & 78th St',\n",
       "       'Perry Ave & 69th St', 'Lake Park Ave & 56th St',\n",
       "       'California Ave & Lake St', 'Karlov Ave & Madison St',\n",
       "       'Kedzie Ave & 24th St', 'Artesian Ave & Hubbard St',\n",
       "       'Stewart Ave & 83rd St', 'Eberhart Ave & 61st St',\n",
       "       'Chicago Ave & Sheridan Rd', 'Rainbow Beach',\n",
       "       'Clarendon Ave & Leland Ave', 'Central Ave & Chicago Ave',\n",
       "       'Constance Ave & 95th St', 'California Ave & Fletcher St',\n",
       "       'Greenview Ave & Diversey Pkwy', 'Lakefront Trail & Wilson Ave',\n",
       "       'Damen Ave & Leland Ave', 'Avenue O & 118th St',\n",
       "       'Orleans St & Elm St', 'Clinton St & Jackson Blvd',\n",
       "       'Desplaines St & Jackson Blvd', 'Sacramento Blvd & Franklin Blvd',\n",
       "       'Green St & Madison St', 'Daley Center Plaza',\n",
       "       'N Southport Ave & W Newport Ave', 'California Ave & Montrose Ave',\n",
       "       'May St & Cullerton St', 'Ashland Ave & Archer Ave',\n",
       "       'Calumet Ave & 71st St', 'Clark St & Randolph St',\n",
       "       'Ashland Ave & McDowell Ave', 'Halsted St & 56th St',\n",
       "       'Damen Ave & Thomas St (Augusta Blvd)',\n",
       "       'Stony Island Ave & 67th St', 'N Green St & W Lake St',\n",
       "       'Jeffery Blvd & 76th St', '2112 W Peterson Ave',\n",
       "       'Major Taylor Trail & 115th St', 'Western Ave & 111th St',\n",
       "       'Western Ave & 104th St', 'Latrobe Ave & Chicago Ave',\n",
       "       'State St & Van Buren St', 'Sedgwick St & North Ave',\n",
       "       'Clark St & Newport St', 'University Ave & 57th St',\n",
       "       'Laramie Ave & Madison St', 'Sheridan Rd & Noyes St (NU)',\n",
       "       'Cornell Dr & Hayes Dr', 'S Wentworth Ave & W 111th St',\n",
       "       'Western Ave & Walton St', 'California Ave & Francis Pl (Temp)',\n",
       "       'Franklin St & Jackson Blvd', 'Rush St & Superior St',\n",
       "       'Laflin St & Cullerton St', 'Paulina St & Montrose Ave',\n",
       "       'Kimbark Ave & 53rd St', 'Western Blvd & 48th Pl',\n",
       "       'Eggleston Ave & 69th St', 'Racine Ave & Garfield Blvd',\n",
       "       'Shedd Aquarium', 'Central Ave & Lake St',\n",
       "       'Greenview Ave & Jarvis Ave', 'Bosworth Ave & Howard St',\n",
       "       'Ridge Blvd & Touhy Ave', 'Damen Ave & 51st St',\n",
       "       'Western Ave & Fillmore St', 'Oakley Ave & Touhy Ave',\n",
       "       'MLK Jr Dr & 47th St', 'Calumet Ave & 35th St',\n",
       "       'Clybourn Ave & Division St', 'May St & Taylor St',\n",
       "       'Damen Ave & Pershing Rd', 'Stony Island Ave & 90th St',\n",
       "       'Altgeld Gardens', 'Base - 2132 W Hubbard Warehouse',\n",
       "       'Central St & Girard Ave', 'Dodge Ave & Church St',\n",
       "       'Chicago State University', 'Austin Blvd & Chicago Ave',\n",
       "       'State St & Pershing Rd', 'Baltimore Ave & 87th St',\n",
       "       'Cicero Ave & Quincy St', 'Indiana Ave & 103rd St',\n",
       "       'Michigan Ave & Washington St', 'Ogden Ave & Roosevelt Rd',\n",
       "       'Halsted St & 104th St', 'Wentworth Ave & 63rd St',\n",
       "       'Bennett Ave & 79th St', 'Kedzie Ave & Lake St',\n",
       "       'California Ave & 26th St',\n",
       "       'Western & 28th - Velasquez Institute Vaccination Site',\n",
       "       'Greenwood Ave & 91st St', 'Normal Ave & Archer Ave',\n",
       "       'Hampden Ct & Diversey Ave', 'Halsted St & Archer Ave',\n",
       "       'Wentworth Ave & 104th St', 'Elmwood Ave & Austin St',\n",
       "       'N Carpenter St & W Lake St', 'Commercial Ave & 100th St',\n",
       "       'Major Taylor Trail & 124th St', 'Fairbanks St & Superior St',\n",
       "       'Lincoln Ave & Addison St', 'Broadway & Waveland Ave',\n",
       "       'Racine Ave & Randolph St', 'LaSalle Dr & Huron St',\n",
       "       'LaSalle St & Jackson Blvd', 'Kedzie Ave & 104th St',\n",
       "       'Clark St & Drummond Pl', 'Financial Pl & Ida B Wells Dr',\n",
       "       'Wilton Ave & Diversey Pkwy', 'Clinton St & Washington Blvd',\n",
       "       'Cicero Ave & Lake St', 'Budlong Woods Library',\n",
       "       'Kedzie Ave & 110th St', 'Wood St & Hubbard St',\n",
       "       'Spaulding Ave & Armitage Ave', 'Ashland Ave & Belle Plaine Ave',\n",
       "       'Greenwood Ave & 97th St', 'Damen Ave & Wabansia Ave',\n",
       "       'Indiana Ave & 40th St', 'Wilton Ave & Belmont Ave',\n",
       "       'Glenwood Ave & Touhy Ave', 'California Ave & Milwaukee Ave',\n",
       "       'Fort Dearborn Dr & 31st St', 'Clark St & Wellington Ave',\n",
       "       'Wells St & Huron St', 'Cottage Grove Ave & 43rd St',\n",
       "       'Halsted St & North Branch St', 'Desplaines St & Randolph St',\n",
       "       'Lincolnwood Dr & Central St', 'Damen Ave & Coulter St',\n",
       "       'Hegewisch Metra Station', 'Lincoln Ave & Winona St',\n",
       "       'Wabash Ave & 9th St', 'Cottage Grove Ave & 47th St',\n",
       "       'Millard Ave & 26th St', 'Leavitt St & Chicago Ave',\n",
       "       'Kedzie Ave & Chicago Ave', 'Green St & Randolph St',\n",
       "       'Franklin St & Lake St', 'Marshfield Ave & Cortland St',\n",
       "       'Sedgwick St & Schiller St', 'Eckhart Park',\n",
       "       'Sheridan Rd & Buena Ave', 'Wolcott Ave & Polk St',\n",
       "       'Ogden Ave & Congress Pkwy', 'Paulina St & Howard St',\n",
       "       'Stewart Ave & 63rd St', 'Commercial Ave & 130th St',\n",
       "       'Clinton St & Madison St', 'Halsted St & 111th St',\n",
       "       'Sheffield Ave & Wrightwood Ave', 'Southport Ave & Wellington Ave',\n",
       "       'Wabash Ave & Grand Ave', 'Damen Ave & Chicago Ave',\n",
       "       'Morgan St & 31st St', 'Buckingham Fountain',\n",
       "       'Wabash Ave & Roosevelt Rd', 'Wentworth Ave & Cermak Rd',\n",
       "       'Fairbanks Ct & Grand Ave', 'Halsted St & 18th St',\n",
       "       'Sheridan Rd & Loyola Ave', 'Western Ave & Congress Pkwy',\n",
       "       'Clinton St & Tilden St', 'Theater on the Lake',\n",
       "       'Clark St & Touhy Ave', 'Lake Shore Dr & Wellington Ave',\n",
       "       'California Ave & Byron St', 'Lakeview Ave & Fullerton Pkwy',\n",
       "       'St. Clair St & Erie St', 'Larrabee St & Division St',\n",
       "       'Damen Ave & Walnut (Lake) St', 'Damen Ave & Pierce Ave',\n",
       "       'Wells St & Evergreen Ave', 'Phillips Ave & 83rd St',\n",
       "       'State St & 35th St', 'Avenue O & 134th St',\n",
       "       'Kedzie Ave & Milwaukee Ave', 'Kedzie Ave & Leland Ave',\n",
       "       'Prospect Sq & 91st St', 'Avenue L & 114th St',\n",
       "       'Western Ave & 21st St', 'Spaulding Ave & Division St',\n",
       "       'LaSalle St & Washington St', 'Warren Park West',\n",
       "       'Wolcott (Ravenswood) Ave & Montrose Ave',\n",
       "       'Cannon Dr & Fullerton Ave', 'Ellis Ave & 55th St',\n",
       "       'Warren Park East', 'Jeffery Blvd & 71st St',\n",
       "       'Harper Ave & 59th St', 'Southport Ave & Clark St',\n",
       "       'Milwaukee Ave & Grand Ave', 'Clark St & Schiller St',\n",
       "       'Wells St & Hubbard St', 'Kingsbury St & Erie St',\n",
       "       'Sheffield Ave & Kingsbury St', 'Clark St & Armitage Ave',\n",
       "       'Kedzie Ave & Bryn Mawr Ave', 'Burnham Greenway & 105th St',\n",
       "       'Eggleston Ave & 92nd St', 'Broadway & Cornelia Ave',\n",
       "       'Hoyne Ave & Balmoral Ave', 'Peoria St & Jackson Blvd',\n",
       "       'Ashland Ave & Pershing Rd', 'Lincoln Ave & Belmont Ave',\n",
       "       'DuSable Museum', 'Ashland Ave & 13th St',\n",
       "       'University Library (NU)', 'Loomis St & Jackson Blvd',\n",
       "       'Commercial Ave & 83rd St', 'Ashland Ave & Garfield Blvd',\n",
       "       'Wabash Ave & Adams St', 'Rush St & Cedar St',\n",
       "       'MLK Jr Dr & Pershing Rd', 'Pine Grove Ave & Waveland Ave',\n",
       "       'Kedzie Ave & Foster Ave', 'Ashland Ave & 66th St',\n",
       "       'Christiana Ave & Lawrence Ave', 'Western Ave & Winnebago Ave',\n",
       "       'California Ave & Cortez St', 'Kildare Ave & Montrose Ave',\n",
       "       'Halsted St & Roscoe St', 'Kedzie Ave & Harrison St',\n",
       "       'Rhodes Ave & 71st St', 'Vernon Ave & 75th St',\n",
       "       'Ogden Ave & Race Ave', 'Field Blvd & South Water St',\n",
       "       'Ashland Ave & Chicago Ave', 'Talman Ave & Addison St',\n",
       "       'Dodge Ave & Main St', 'Lincoln Ave & Belle Plaine Ave',\n",
       "       'Winthrop Ave & Lawrence Ave', 'State St & 123rd St',\n",
       "       'Walden Pkwy & 100th St', 'Cornell Ave & Hyde Park Blvd',\n",
       "       'Kimball Ave & Belmont Ave', 'Western Ave & Roscoe St',\n",
       "       'Aberdeen St & Randolph St', 'Delano Ct & Roosevelt Rd',\n",
       "       'Canal St & Monroe St', 'Ashland Ave & 74th St',\n",
       "       'Stave St & Armitage Ave', 'Canal St & Madison St',\n",
       "       'Central Park Ave & Bloomingdale Ave',\n",
       "       'Ashland Ave & Blackhawk St', 'State St & 54th St',\n",
       "       'California Ave & 23rd Pl', 'Summit Ave & 86th St',\n",
       "       'Dauphin Ave & 103rd St', 'South Shore Dr & 71st St',\n",
       "       'Clark St & Montrose Ave', 'Burling St & Diversey Pkwy',\n",
       "       'Winchester Ave & Elston Ave', 'Stockton Dr & Wrightwood Ave',\n",
       "       'Phillips Ave & 79th St', 'Clark St & 9th St (AMLI)',\n",
       "       'Halsted St & 47th Pl', 'Prairie Ave & 43rd St',\n",
       "       'LaSalle St & Adams St', 'Canal St & Adams St',\n",
       "       'Western Ave & Monroe St', 'Cottage Grove Ave & 78th St',\n",
       "       'Clark St & Ida B Wells Dr', 'Union Ave & Root St',\n",
       "       'Kedzie Ave & 21st St', 'Cicero Ave & Flournoy St',\n",
       "       'Eastlake Ter & Rogers Ave', 'Lincoln Ave & Fullerton Ave',\n",
       "       'Sheridan Rd & Irving Park Rd', 'Evans Ave & 75th St',\n",
       "       'Calumet Ave & 51st St', 'Pulaski Rd & Congress Pkwy',\n",
       "       'Princeton Ave & Garfield Blvd', 'Claremont Ave & Hirsch St',\n",
       "       'Lake Park Ave & 35th St', 'Cottage Grove Ave & 83rd St',\n",
       "       'State St & Kinzie St', 'Vincennes Ave & 104th St',\n",
       "       'Campbell Ave & Fullerton Ave', 'Marquette Ave & 89th St',\n",
       "       'Halsted St & 96th St', 'Bradley Park',\n",
       "       'Mies van der Rohe Way & Chicago Ave',\n",
       "       'Humboldt Blvd & Armitage Ave', 'Cottage Grove Ave & 111th Pl',\n",
       "       'Kedzie Ave & Roosevelt Rd', 'Elizabeth St & 47th St',\n",
       "       'Seeley Ave & Garfield Blvd', 'Homewood Ave & 115th St',\n",
       "       'Damen Ave & 59th St', 'Lake Shore Dr & Ohio St',\n",
       "       'Adler Planetarium', 'Ashland Ave & Augusta Blvd',\n",
       "       'Morgan St & 18th St', 'Clark St & Lunt Ave',\n",
       "       'Ellis Ave & 60th St', 'Damen Ave & Wellington Ave',\n",
       "       'Racine Ave & Wrightwood Ave', 'California Ave & 21st St',\n",
       "       'Vernon Ave & 79th St', 'Loomis St & Archer Ave',\n",
       "       'Wood St & Milwaukee Ave', 'Sheridan Rd & Greenleaf Ave',\n",
       "       'Wells St & 19th St', 'Halsted St & Roosevelt Rd',\n",
       "       'Larrabee St & Kingsbury St', 'Leavitt St & Belmont Ave',\n",
       "       'Keystone Ave & Montrose Ave', 'Elizabeth St & 59th St',\n",
       "       'Racine Ave & 61st St', 'Torrence Ave & 126th Pl',\n",
       "       'Knox Ave & Montrose Ave', 'Ellis Ave & 83rd St',\n",
       "       'Kostner Ave & Adams St', 'Fairfield Ave & Roosevelt Rd',\n",
       "       'Clinton St & Roosevelt Rd', 'Damen Ave & Charleston St',\n",
       "       'Princeton Ave & 47th St', 'South Chicago Ave & 83rd St',\n",
       "       'Western Ave & Lunt Ave',\n",
       "       'Winchester (Ravenswood) Ave & Balmoral Ave', 'Ada St & 113th St',\n",
       "       'Wentworth Ave & 33rd St', 'Albany Ave & Montrose Ave',\n",
       "       'Sheffield Ave & Wellington Ave', 'Canal St & Taylor St',\n",
       "       'Avers Ave & Belmont Ave', 'Larrabee St & North Ave',\n",
       "       'Morgan St & Lake St', 'Halsted St & Dickens Ave',\n",
       "       'Broadway & Thorndale Ave', 'Chicago Ave & Washington St',\n",
       "       'May St & 69th St', 'Museum of Science and Industry',\n",
       "       'Montrose Harbor', 'Clark St & Schreiber Ave',\n",
       "       'Halsted St & Clybourn Ave', 'W Armitage Ave & N Sheffield Ave',\n",
       "       'Houston Ave & 92nd St', 'Ellis Ave & 53rd St',\n",
       "       'South Shore Dr & 67th St', 'Jefferson St & Monroe St',\n",
       "       'Vincennes Ave & 75th St', 'Monticello Ave & Irving Park Rd',\n",
       "       'Federal St & Polk St', 'Calumet Ave & 33rd St',\n",
       "       'Southport Ave & Wrightwood Ave', 'Clark St & Wrightwood Ave',\n",
       "       'Valli Produce - Evanston Plaza', 'Sheridan Rd & Lawrence Ave',\n",
       "       'Central Ave & Madison St', 'State St & 95th St',\n",
       "       'Racine Ave & Washington Blvd', 'Yates Blvd & 75th St',\n",
       "       'Clark St & Columbia Ave',\n",
       "       'Halsted & 63rd - Kennedy-King Vaccination Site',\n",
       "       'Wentworth Ave & 35th St', 'Noble St & Milwaukee Ave',\n",
       "       'Racine Ave & 35th St', 'Carpenter St & Huron St',\n",
       "       'Ashland Ave & Division St', 'Glenwood Ave & Morse Ave',\n",
       "       'Damen Ave & Melrose Ave', 'Stony Island Ave & 64th St',\n",
       "       'Benson Ave & Church St', 'Ashland Ave & Wellington Ave',\n",
       "       'Shields Ave & 31st St', 'Milwaukee Ave & Cuyler Ave',\n",
       "       'Exchange Ave & 79th St', 'Emerald Ave & 28th St',\n",
       "       'Aberdeen St & Monroe St', 'Ridge Blvd & Howard St',\n",
       "       'Wabash Ave & 16th St', 'Emerald Ave & 31st St',\n",
       "       'Dauphin Ave & 87th St', 'Central Park Ave & North Ave',\n",
       "       'Cottage Grove Ave & 51st St', 'Avondale Ave & Irving Park Rd',\n",
       "       'Central St Metra', 'Clyde Ave & 87th St',\n",
       "       'Racine Ave & Belmont Ave', 'Ada St & Washington Blvd',\n",
       "       'Sedgwick St & Huron St', 'Racine Ave & 18th St', '63rd St Beach',\n",
       "       'Austin Blvd & Madison St', 'Eberhart Ave & 91st St',\n",
       "       'Manor Ave & Leland Ave', 'Broadway & Granville Ave',\n",
       "       'Leavitt St & Division St', 'Dearborn St & Van Buren St',\n",
       "       'Michigan Ave & 18th St', 'Columbus Dr & Randolph St',\n",
       "       'Michigan Ave & Jackson Blvd', 'Wentworth Ave & 24th St (Temp)',\n",
       "       'Ashland Ave & Lake St', 'Troy St & Elston Ave',\n",
       "       'Throop St & 52nd St', 'Broadway & Argyle St',\n",
       "       'Leavitt St & Lawrence Ave', 'Clark St & North Ave',\n",
       "       'N Sheffield Ave & W Wellington Ave',\n",
       "       'Malcolm X College Vaccination Site', 'Michigan Ave & Pearson St',\n",
       "       'LaSalle St & Illinois St', 'Canal St & Jackson Blvd',\n",
       "       'Walsh Park', 'Leavitt St & Addison St',\n",
       "       'Sheridan Rd & Montrose Ave', 'Jeffery Blvd & 67th St',\n",
       "       'Blackstone Ave & Hyde Park Blvd', 'Francisco Ave & Foster Ave',\n",
       "       'Dorchester Ave & 63rd St', 'Ashland Ave & Wrightwood Ave',\n",
       "       'Wabash Ave & 83rd St', 'Michigan Ave & 71st St',\n",
       "       'Elizabeth St & 92nd St', 'Kostner Ave & Lake St',\n",
       "       'Halsted St & 51st St', 'Kilbourn Ave & Milwaukee Ave',\n",
       "       'Big Marsh Park', 'MLK Jr Dr & 83rd St', 'Ogden Ave & Chicago Ave',\n",
       "       'Cityfront Plaza Dr & Pioneer Ct', 'Wood St & 35th St',\n",
       "       'Milwaukee Ave & Rockwell St', 'Damen Ave & Cullerton St',\n",
       "       'Logan Blvd & Elston Ave', 'Woodlawn Ave & 75th St',\n",
       "       'Wolcott Ave & Fargo Ave', 'MLK Jr Dr & 56th St',\n",
       "       'Halsted St & Polk St', '900 W Harrison St', 'Morgan St & Polk St',\n",
       "       'Wabash Ave & Cermak Rd', 'Kilbourn Ave & Irving Park Rd',\n",
       "       'N Paulina St & Lincoln Ave', 'Sheridan Rd & Columbia Ave',\n",
       "       'Central Ave & Harrison St', 'Ravenswood Ave & Lawrence Ave',\n",
       "       'Broadway & Barry Ave', 'Lincoln Ave & Roscoe St',\n",
       "       'Broadway & Wilson - Truman College Vaccination Site',\n",
       "       'Sheffield Ave & Fullerton Ave', 'Michigan Ave & 14th St',\n",
       "       'State St & 79th St', 'Washtenaw Ave & Lawrence Ave',\n",
       "       'Torrence Ave & 106th St', 'Eberhart Ave & 131st St',\n",
       "       'Central Park Ave & Ogden Ave', 'Blue Island Ave & 18th St',\n",
       "       'Ashland Ave & Grace St', 'Lake Shore Dr & Belmont Ave',\n",
       "       'Clark St & Elm St', 'Archer (Damen) Ave & 37th St',\n",
       "       'Greenwood Ave & 47th St', 'Austin Blvd & Lake St',\n",
       "       'Clark St & Lincoln Ave', 'Loomis St & Lexington St',\n",
       "       'Lincoln Ave & Diversey Pkwy', 'Leavitt St & North Ave',\n",
       "       'Dayton St & North Ave', 'Franklin St & Adams St (Temp)',\n",
       "       'Clark St & Winnemac Ave', 'Stony Island Ave & 82nd St',\n",
       "       'Calumet Park', 'Morgan St & Pershing Rd',\n",
       "       'Oglesby Ave & 100th St', 'Ewing Ave & Burnham Greenway',\n",
       "       'Laramie Ave & Kinzie St', 'State St & 29th St',\n",
       "       'Sawyer Ave & Irving Park Rd', 'East End Ave & 87th St',\n",
       "       'W Oakdale Ave & N Broadway', 'Laramie Ave & Gladys Ave',\n",
       "       'Carpenter St & 63rd St', 'State St & 76th St',\n",
       "       'Western Ave & Granville Ave', 'Streeter Dr & Grand Ave',\n",
       "       'Franklin St & Chicago Ave', 'Milwaukee Ave & Wabansia Ave',\n",
       "       'Calumet Ave & 21st St', 'Halsted St & 37th St',\n",
       "       'Vernon Ave & 107th St', 'Halsted St & 78th St',\n",
       "       'Orleans St & Merchandise Mart Plaza', 'Wells St & Elm St',\n",
       "       'Dearborn Pkwy & Delaware Pl', 'Southport Ave & Roscoe St',\n",
       "       'Western Ave & Division St', 'Michigan Ave & Ida B Wells Dr',\n",
       "       'Paulina St & Flournoy St', 'California Ave & North Ave',\n",
       "       'Clifton Ave & Armitage Ave', 'Clark St & Elmdale Ave',\n",
       "       'Leavitt St & Armitage Ave', 'Sangamon St & Washington Blvd',\n",
       "       'Sheffield Ave & Willow St', 'Conservatory Dr & Lake St',\n",
       "       'Wood St & Augusta Blvd', 'Throop St & Taylor St',\n",
       "       'Damen Ave & Division St', 'Southport Ave & Irving Park Rd',\n",
       "       'Lake Shore Dr & Diversey Pkwy', 'Broadway & Belmont Ave',\n",
       "       'Larrabee St & Menomonee St', 'Lincoln Ave & Sunnyside Ave',\n",
       "       'W Washington Blvd & N Peoria St', 'Halsted St & 59th St',\n",
       "       'California Ave & Altgeld St', 'Clark St & Bryn Mawr Ave',\n",
       "       'Indiana Ave & 31st St', 'Lake Shore Dr & North Blvd',\n",
       "       'Marshfield Ave & 44th St', 'Maplewood Ave & Peterson Ave',\n",
       "       'Shields Ave & 43rd St', 'Lake Park Ave & 47th St',\n",
       "       'Woodlawn Ave & Lake Park Ave', 'Troy St & North Ave',\n",
       "       'Sheffield Ave & Webster Ave', 'Damen Ave & Clybourn Ave',\n",
       "       'Bissell St & Armitage Ave', 'Rhodes Ave & 32nd St',\n",
       "       'Clinton St & 18th St', 'Woodlawn Ave & 55th St',\n",
       "       'Kosciuszko Park', 'Marine Dr & Ainslie St',\n",
       "       'Pine Grove Ave & Irving Park Rd', 'Central Park Blvd & 5th Ave',\n",
       "       'Pulaski Rd & Lake St', 'Kedzie Ave & Palmer Ct',\n",
       "       'McClurg Ct & Erie St', 'Mies van der Rohe Way & Chestnut St',\n",
       "       'Canal St & Harrison St', 'Bernard St & Elston Ave'], dtype=object)"
      ]
     },
     "execution_count": 54,
     "metadata": {},
     "output_type": "execute_result"
    }
   ],
   "source": [
    "data['start_station_name'].unique()"
   ]
  },
  {
   "cell_type": "code",
   "execution_count": 55,
   "metadata": {},
   "outputs": [],
   "source": [
    "# which station has maximum no.of rides taken"
   ]
  },
  {
   "cell_type": "code",
   "execution_count": 56,
   "metadata": {},
   "outputs": [
    {
     "data": {
      "text/plain": [
       "Lake Shore Dr & Monroe St    3705\n",
       "Streeter Dr & Grand Ave      3363\n",
       "Millennium Park              2612\n",
       "Clark St & Elm St            2605\n",
       "Michigan Ave & Oak St        2575\n",
       "                             ... \n",
       "Altgeld Gardens                 2\n",
       "Hampden Ct & Diversey Ave       1\n",
       "MLK Jr Dr & 83rd St             1\n",
       "State St & 76th St              1\n",
       "Carpenter St & 63rd St          1\n",
       "Name: start_station_name, Length: 681, dtype: int64"
      ]
     },
     "execution_count": 56,
     "metadata": {},
     "output_type": "execute_result"
    }
   ],
   "source": [
    "data['start_station_name'].value_counts() #The no.of rides from each station"
   ]
  },
  {
   "cell_type": "code",
   "execution_count": 57,
   "metadata": {},
   "outputs": [
    {
     "data": {
      "text/plain": [
       "Lake Shore Dr & Monroe St    3500\n",
       "Streeter Dr & Grand Ave      3284\n",
       "Millennium Park              2766\n",
       "Clark St & Elm St            2656\n",
       "Michigan Ave & Oak St        2654\n",
       "                             ... \n",
       "Laramie Ave & Gladys Ave        1\n",
       "Kostner Ave & Lake St           1\n",
       "State St & 76th St              1\n",
       "Kedzie Ave & 104th St           1\n",
       "Halsted St & 59th St            1\n",
       "Name: end_station_name, Length: 681, dtype: int64"
      ]
     },
     "execution_count": 57,
     "metadata": {},
     "output_type": "execute_result"
    }
   ],
   "source": [
    "data['end_station_name'].value_counts() # The no.of rides fron ended station"
   ]
  },
  {
   "cell_type": "code",
   "execution_count": 58,
   "metadata": {},
   "outputs": [
    {
     "data": {
      "text/html": [
       "<div>\n",
       "<style scoped>\n",
       "    .dataframe tbody tr th:only-of-type {\n",
       "        vertical-align: middle;\n",
       "    }\n",
       "\n",
       "    .dataframe tbody tr th {\n",
       "        vertical-align: top;\n",
       "    }\n",
       "\n",
       "    .dataframe thead th {\n",
       "        text-align: right;\n",
       "    }\n",
       "</style>\n",
       "<table border=\"1\" class=\"dataframe\">\n",
       "  <thead>\n",
       "    <tr style=\"text-align: right;\">\n",
       "      <th></th>\n",
       "      <th>ride_id</th>\n",
       "      <th>rideable_type</th>\n",
       "      <th>started_at</th>\n",
       "      <th>ended_at</th>\n",
       "      <th>start_station_name</th>\n",
       "      <th>start_station_id</th>\n",
       "      <th>end_station_name</th>\n",
       "      <th>end_station_id</th>\n",
       "      <th>start_lat</th>\n",
       "      <th>start_lng</th>\n",
       "      <th>end_lat</th>\n",
       "      <th>end_lng</th>\n",
       "      <th>member_casual</th>\n",
       "      <th>day_of_week</th>\n",
       "      <th>journey_time</th>\n",
       "    </tr>\n",
       "  </thead>\n",
       "  <tbody>\n",
       "    <tr>\n",
       "      <th>0</th>\n",
       "      <td>6C992BD37A98A63F</td>\n",
       "      <td>classic_bike</td>\n",
       "      <td>2021-04-12 18:25:36</td>\n",
       "      <td>2021-04-12 18:56:55</td>\n",
       "      <td>State St &amp; Pearson St</td>\n",
       "      <td>TA1307000061</td>\n",
       "      <td>Southport Ave &amp; Waveland Ave</td>\n",
       "      <td>13235</td>\n",
       "      <td>41.897448</td>\n",
       "      <td>-87.628722</td>\n",
       "      <td>41.948150</td>\n",
       "      <td>-87.663940</td>\n",
       "      <td>member</td>\n",
       "      <td>0</td>\n",
       "      <td>0 days 00:31:19</td>\n",
       "    </tr>\n",
       "    <tr>\n",
       "      <th>1</th>\n",
       "      <td>1E0145613A209000</td>\n",
       "      <td>docked_bike</td>\n",
       "      <td>2021-04-27 17:27:11</td>\n",
       "      <td>2021-04-27 18:31:29</td>\n",
       "      <td>Dorchester Ave &amp; 49th St</td>\n",
       "      <td>KA1503000069</td>\n",
       "      <td>Dorchester Ave &amp; 49th St</td>\n",
       "      <td>KA1503000069</td>\n",
       "      <td>41.805772</td>\n",
       "      <td>-87.592464</td>\n",
       "      <td>41.805772</td>\n",
       "      <td>-87.592464</td>\n",
       "      <td>casual</td>\n",
       "      <td>1</td>\n",
       "      <td>0 days 01:04:18</td>\n",
       "    </tr>\n",
       "    <tr>\n",
       "      <th>2</th>\n",
       "      <td>E498E15508A80BAD</td>\n",
       "      <td>docked_bike</td>\n",
       "      <td>2021-04-03 12:42:45</td>\n",
       "      <td>2021-04-07 11:40:24</td>\n",
       "      <td>Loomis Blvd &amp; 84th St</td>\n",
       "      <td>20121</td>\n",
       "      <td>Loomis Blvd &amp; 84th St</td>\n",
       "      <td>20121</td>\n",
       "      <td>41.741487</td>\n",
       "      <td>-87.658410</td>\n",
       "      <td>41.741487</td>\n",
       "      <td>-87.658410</td>\n",
       "      <td>casual</td>\n",
       "      <td>5</td>\n",
       "      <td>3 days 22:57:39</td>\n",
       "    </tr>\n",
       "    <tr>\n",
       "      <th>3</th>\n",
       "      <td>1887262AD101C604</td>\n",
       "      <td>classic_bike</td>\n",
       "      <td>2021-04-17 09:17:42</td>\n",
       "      <td>2021-04-17 09:42:48</td>\n",
       "      <td>Honore St &amp; Division St</td>\n",
       "      <td>TA1305000034</td>\n",
       "      <td>Southport Ave &amp; Waveland Ave</td>\n",
       "      <td>13235</td>\n",
       "      <td>41.903119</td>\n",
       "      <td>-87.673935</td>\n",
       "      <td>41.948150</td>\n",
       "      <td>-87.663940</td>\n",
       "      <td>member</td>\n",
       "      <td>5</td>\n",
       "      <td>0 days 00:25:06</td>\n",
       "    </tr>\n",
       "    <tr>\n",
       "      <th>4</th>\n",
       "      <td>C123548CAB2A32A5</td>\n",
       "      <td>docked_bike</td>\n",
       "      <td>2021-04-03 12:42:25</td>\n",
       "      <td>2021-04-03 14:13:42</td>\n",
       "      <td>Loomis Blvd &amp; 84th St</td>\n",
       "      <td>20121</td>\n",
       "      <td>Loomis Blvd &amp; 84th St</td>\n",
       "      <td>20121</td>\n",
       "      <td>41.741487</td>\n",
       "      <td>-87.658410</td>\n",
       "      <td>41.741487</td>\n",
       "      <td>-87.658410</td>\n",
       "      <td>casual</td>\n",
       "      <td>5</td>\n",
       "      <td>0 days 01:31:17</td>\n",
       "    </tr>\n",
       "  </tbody>\n",
       "</table>\n",
       "</div>"
      ],
      "text/plain": [
       "            ride_id rideable_type          started_at            ended_at  \\\n",
       "0  6C992BD37A98A63F  classic_bike 2021-04-12 18:25:36 2021-04-12 18:56:55   \n",
       "1  1E0145613A209000   docked_bike 2021-04-27 17:27:11 2021-04-27 18:31:29   \n",
       "2  E498E15508A80BAD   docked_bike 2021-04-03 12:42:45 2021-04-07 11:40:24   \n",
       "3  1887262AD101C604  classic_bike 2021-04-17 09:17:42 2021-04-17 09:42:48   \n",
       "4  C123548CAB2A32A5   docked_bike 2021-04-03 12:42:25 2021-04-03 14:13:42   \n",
       "\n",
       "         start_station_name start_station_id              end_station_name  \\\n",
       "0     State St & Pearson St     TA1307000061  Southport Ave & Waveland Ave   \n",
       "1  Dorchester Ave & 49th St     KA1503000069      Dorchester Ave & 49th St   \n",
       "2     Loomis Blvd & 84th St            20121         Loomis Blvd & 84th St   \n",
       "3   Honore St & Division St     TA1305000034  Southport Ave & Waveland Ave   \n",
       "4     Loomis Blvd & 84th St            20121         Loomis Blvd & 84th St   \n",
       "\n",
       "  end_station_id  start_lat  start_lng    end_lat    end_lng member_casual  \\\n",
       "0          13235  41.897448 -87.628722  41.948150 -87.663940        member   \n",
       "1   KA1503000069  41.805772 -87.592464  41.805772 -87.592464        casual   \n",
       "2          20121  41.741487 -87.658410  41.741487 -87.658410        casual   \n",
       "3          13235  41.903119 -87.673935  41.948150 -87.663940        member   \n",
       "4          20121  41.741487 -87.658410  41.741487 -87.658410        casual   \n",
       "\n",
       "   day_of_week    journey_time  \n",
       "0            0 0 days 00:31:19  \n",
       "1            1 0 days 01:04:18  \n",
       "2            5 3 days 22:57:39  \n",
       "3            5 0 days 00:25:06  \n",
       "4            5 0 days 01:31:17  "
      ]
     },
     "execution_count": 58,
     "metadata": {},
     "output_type": "execute_result"
    }
   ],
   "source": [
    "data.head()"
   ]
  },
  {
   "cell_type": "code",
   "execution_count": 59,
   "metadata": {},
   "outputs": [],
   "source": [
    "# average journey duration on each day"
   ]
  },
  {
   "cell_type": "code",
   "execution_count": 60,
   "metadata": {},
   "outputs": [
    {
     "data": {
      "text/plain": [
       "Timedelta('0 days 00:22:46.937615685')"
      ]
     },
     "execution_count": 60,
     "metadata": {},
     "output_type": "execute_result"
    }
   ],
   "source": [
    "data[data['day_of_week'] == 0]['journey_time'].mean() # monday average journey duration"
   ]
  },
  {
   "cell_type": "code",
   "execution_count": 61,
   "metadata": {},
   "outputs": [
    {
     "data": {
      "text/plain": [
       "Timedelta('0 days 00:24:15.297055106')"
      ]
     },
     "execution_count": 61,
     "metadata": {},
     "output_type": "execute_result"
    }
   ],
   "source": [
    "data[data['day_of_week'] == 1]['journey_time'].mean() # tuesday average journey duration"
   ]
  },
  {
   "cell_type": "code",
   "execution_count": 62,
   "metadata": {},
   "outputs": [
    {
     "data": {
      "text/plain": [
       "Timedelta('0 days 00:21:22.389208729')"
      ]
     },
     "execution_count": 62,
     "metadata": {},
     "output_type": "execute_result"
    }
   ],
   "source": [
    "data[data['day_of_week'] == 2]['journey_time'].mean()# wednesday average journey duration"
   ]
  },
  {
   "cell_type": "code",
   "execution_count": 63,
   "metadata": {},
   "outputs": [
    {
     "data": {
      "text/plain": [
       "Timedelta('0 days 00:16:50.331214759')"
      ]
     },
     "execution_count": 63,
     "metadata": {},
     "output_type": "execute_result"
    }
   ],
   "source": [
    "data[data['day_of_week'] == 3]['journey_time'].mean()#thrusday average journey duration which is minimum as compared as other days"
   ]
  },
  {
   "cell_type": "code",
   "execution_count": 64,
   "metadata": {},
   "outputs": [
    {
     "data": {
      "text/plain": [
       "Timedelta('0 days 00:24:46.177150739')"
      ]
     },
     "execution_count": 64,
     "metadata": {},
     "output_type": "execute_result"
    }
   ],
   "source": [
    "data[data['day_of_week'] == 4]['journey_time'].mean()# friday average journey duration"
   ]
  },
  {
   "cell_type": "code",
   "execution_count": 65,
   "metadata": {},
   "outputs": [
    {
     "data": {
      "text/plain": [
       "Timedelta('0 days 00:26:47.575121816')"
      ]
     },
     "execution_count": 65,
     "metadata": {},
     "output_type": "execute_result"
    }
   ],
   "source": [
    "data[data['day_of_week'] == 5]['journey_time'].mean() # saturday average journey duration"
   ]
  },
  {
   "cell_type": "code",
   "execution_count": 68,
   "metadata": {},
   "outputs": [
    {
     "data": {
      "text/plain": [
       "Timedelta('0 days 00:29:31.281214624')"
      ]
     },
     "execution_count": 68,
     "metadata": {},
     "output_type": "execute_result"
    }
   ],
   "source": [
    "data[data['day_of_week'] == 6]['journey_time'].mean() # sunday average journey duration which is max as compared to other days"
   ]
  },
  {
   "cell_type": "code",
   "execution_count": null,
   "metadata": {},
   "outputs": [],
   "source": [
    "sns.countplot(x='journey_time',data=data)"
   ]
  },
  {
   "cell_type": "code",
   "execution_count": 63,
   "metadata": {},
   "outputs": [
    {
     "data": {
      "text/html": [
       "<div>\n",
       "<style scoped>\n",
       "    .dataframe tbody tr th:only-of-type {\n",
       "        vertical-align: middle;\n",
       "    }\n",
       "\n",
       "    .dataframe tbody tr th {\n",
       "        vertical-align: top;\n",
       "    }\n",
       "\n",
       "    .dataframe thead th {\n",
       "        text-align: right;\n",
       "    }\n",
       "</style>\n",
       "<table border=\"1\" class=\"dataframe\">\n",
       "  <thead>\n",
       "    <tr style=\"text-align: right;\">\n",
       "      <th></th>\n",
       "      <th>ride_id</th>\n",
       "      <th>rideable_type</th>\n",
       "      <th>started_at</th>\n",
       "      <th>ended_at</th>\n",
       "      <th>start_station_name</th>\n",
       "      <th>start_station_id</th>\n",
       "      <th>end_station_name</th>\n",
       "      <th>end_station_id</th>\n",
       "      <th>start_lat</th>\n",
       "      <th>start_lng</th>\n",
       "      <th>end_lat</th>\n",
       "      <th>end_lng</th>\n",
       "      <th>member_casual</th>\n",
       "      <th>day_of_week</th>\n",
       "      <th>journey_time</th>\n",
       "    </tr>\n",
       "  </thead>\n",
       "  <tbody>\n",
       "    <tr>\n",
       "      <th>0</th>\n",
       "      <td>6C992BD37A98A63F</td>\n",
       "      <td>classic_bike</td>\n",
       "      <td>2021-04-12 18:25:36</td>\n",
       "      <td>2021-04-12 18:56:55</td>\n",
       "      <td>State St &amp; Pearson St</td>\n",
       "      <td>TA1307000061</td>\n",
       "      <td>Southport Ave &amp; Waveland Ave</td>\n",
       "      <td>13235</td>\n",
       "      <td>41.897448</td>\n",
       "      <td>-87.628722</td>\n",
       "      <td>41.948150</td>\n",
       "      <td>-87.663940</td>\n",
       "      <td>member</td>\n",
       "      <td>0</td>\n",
       "      <td>0 days 00:31:19</td>\n",
       "    </tr>\n",
       "    <tr>\n",
       "      <th>1</th>\n",
       "      <td>1E0145613A209000</td>\n",
       "      <td>docked_bike</td>\n",
       "      <td>2021-04-27 17:27:11</td>\n",
       "      <td>2021-04-27 18:31:29</td>\n",
       "      <td>Dorchester Ave &amp; 49th St</td>\n",
       "      <td>KA1503000069</td>\n",
       "      <td>Dorchester Ave &amp; 49th St</td>\n",
       "      <td>KA1503000069</td>\n",
       "      <td>41.805772</td>\n",
       "      <td>-87.592464</td>\n",
       "      <td>41.805772</td>\n",
       "      <td>-87.592464</td>\n",
       "      <td>casual</td>\n",
       "      <td>1</td>\n",
       "      <td>0 days 01:04:18</td>\n",
       "    </tr>\n",
       "    <tr>\n",
       "      <th>2</th>\n",
       "      <td>E498E15508A80BAD</td>\n",
       "      <td>docked_bike</td>\n",
       "      <td>2021-04-03 12:42:45</td>\n",
       "      <td>2021-04-07 11:40:24</td>\n",
       "      <td>Loomis Blvd &amp; 84th St</td>\n",
       "      <td>20121</td>\n",
       "      <td>Loomis Blvd &amp; 84th St</td>\n",
       "      <td>20121</td>\n",
       "      <td>41.741487</td>\n",
       "      <td>-87.658410</td>\n",
       "      <td>41.741487</td>\n",
       "      <td>-87.658410</td>\n",
       "      <td>casual</td>\n",
       "      <td>5</td>\n",
       "      <td>3 days 22:57:39</td>\n",
       "    </tr>\n",
       "    <tr>\n",
       "      <th>3</th>\n",
       "      <td>1887262AD101C604</td>\n",
       "      <td>classic_bike</td>\n",
       "      <td>2021-04-17 09:17:42</td>\n",
       "      <td>2021-04-17 09:42:48</td>\n",
       "      <td>Honore St &amp; Division St</td>\n",
       "      <td>TA1305000034</td>\n",
       "      <td>Southport Ave &amp; Waveland Ave</td>\n",
       "      <td>13235</td>\n",
       "      <td>41.903119</td>\n",
       "      <td>-87.673935</td>\n",
       "      <td>41.948150</td>\n",
       "      <td>-87.663940</td>\n",
       "      <td>member</td>\n",
       "      <td>5</td>\n",
       "      <td>0 days 00:25:06</td>\n",
       "    </tr>\n",
       "    <tr>\n",
       "      <th>4</th>\n",
       "      <td>C123548CAB2A32A5</td>\n",
       "      <td>docked_bike</td>\n",
       "      <td>2021-04-03 12:42:25</td>\n",
       "      <td>2021-04-03 14:13:42</td>\n",
       "      <td>Loomis Blvd &amp; 84th St</td>\n",
       "      <td>20121</td>\n",
       "      <td>Loomis Blvd &amp; 84th St</td>\n",
       "      <td>20121</td>\n",
       "      <td>41.741487</td>\n",
       "      <td>-87.658410</td>\n",
       "      <td>41.741487</td>\n",
       "      <td>-87.658410</td>\n",
       "      <td>casual</td>\n",
       "      <td>5</td>\n",
       "      <td>0 days 01:31:17</td>\n",
       "    </tr>\n",
       "  </tbody>\n",
       "</table>\n",
       "</div>"
      ],
      "text/plain": [
       "            ride_id rideable_type          started_at            ended_at  \\\n",
       "0  6C992BD37A98A63F  classic_bike 2021-04-12 18:25:36 2021-04-12 18:56:55   \n",
       "1  1E0145613A209000   docked_bike 2021-04-27 17:27:11 2021-04-27 18:31:29   \n",
       "2  E498E15508A80BAD   docked_bike 2021-04-03 12:42:45 2021-04-07 11:40:24   \n",
       "3  1887262AD101C604  classic_bike 2021-04-17 09:17:42 2021-04-17 09:42:48   \n",
       "4  C123548CAB2A32A5   docked_bike 2021-04-03 12:42:25 2021-04-03 14:13:42   \n",
       "\n",
       "         start_station_name start_station_id              end_station_name  \\\n",
       "0     State St & Pearson St     TA1307000061  Southport Ave & Waveland Ave   \n",
       "1  Dorchester Ave & 49th St     KA1503000069      Dorchester Ave & 49th St   \n",
       "2     Loomis Blvd & 84th St            20121         Loomis Blvd & 84th St   \n",
       "3   Honore St & Division St     TA1305000034  Southport Ave & Waveland Ave   \n",
       "4     Loomis Blvd & 84th St            20121         Loomis Blvd & 84th St   \n",
       "\n",
       "  end_station_id  start_lat  start_lng    end_lat    end_lng member_casual  \\\n",
       "0          13235  41.897448 -87.628722  41.948150 -87.663940        member   \n",
       "1   KA1503000069  41.805772 -87.592464  41.805772 -87.592464        casual   \n",
       "2          20121  41.741487 -87.658410  41.741487 -87.658410        casual   \n",
       "3          13235  41.903119 -87.673935  41.948150 -87.663940        member   \n",
       "4          20121  41.741487 -87.658410  41.741487 -87.658410        casual   \n",
       "\n",
       "   day_of_week    journey_time  \n",
       "0            0 0 days 00:31:19  \n",
       "1            1 0 days 01:04:18  \n",
       "2            5 3 days 22:57:39  \n",
       "3            5 0 days 00:25:06  \n",
       "4            5 0 days 01:31:17  "
      ]
     },
     "execution_count": 63,
     "metadata": {},
     "output_type": "execute_result"
    }
   ],
   "source": [
    "data.head()"
   ]
  },
  {
   "cell_type": "code",
   "execution_count": 64,
   "metadata": {},
   "outputs": [],
   "source": [
    "#most common start and end latitude"
   ]
  },
  {
   "cell_type": "code",
   "execution_count": 65,
   "metadata": {},
   "outputs": [
    {
     "data": {
      "text/plain": [
       "41.880958    3314\n",
       "41.892278    2993\n",
       "41.920000    2577\n",
       "41.890000    2190\n",
       "41.930000    2182\n",
       "             ... \n",
       "41.885709       1\n",
       "41.932086       1\n",
       "41.917101       1\n",
       "41.881876       1\n",
       "41.943699       1\n",
       "Name: start_lat, Length: 63080, dtype: int64"
      ]
     },
     "execution_count": 65,
     "metadata": {},
     "output_type": "execute_result"
    }
   ],
   "source": [
    "data['start_lat'].value_counts()"
   ]
  },
  {
   "cell_type": "code",
   "execution_count": 66,
   "metadata": {},
   "outputs": [
    {
     "data": {
      "text/plain": [
       "41.880958    3121\n",
       "41.892278    2923\n",
       "41.920000    2720\n",
       "41.890000    2371\n",
       "41.930000    2303\n",
       "             ... \n",
       "41.967990       1\n",
       "41.838285       1\n",
       "41.799533       1\n",
       "41.925102       1\n",
       "41.943699       1\n",
       "Name: end_lat, Length: 64250, dtype: int64"
      ]
     },
     "execution_count": 66,
     "metadata": {},
     "output_type": "execute_result"
    }
   ],
   "source": [
    "data['end_lat'].value_counts()"
   ]
  },
  {
   "cell_type": "code",
   "execution_count": 67,
   "metadata": {},
   "outputs": [],
   "source": [
    "# most common start and end longitude"
   ]
  },
  {
   "cell_type": "code",
   "execution_count": 68,
   "metadata": {},
   "outputs": [
    {
     "data": {
      "text/plain": [
       "41.880958    3314\n",
       "41.892278    2993\n",
       "41.920000    2577\n",
       "41.890000    2190\n",
       "41.930000    2182\n",
       "             ... \n",
       "41.885709       1\n",
       "41.932086       1\n",
       "41.917101       1\n",
       "41.881876       1\n",
       "41.943699       1\n",
       "Name: start_lat, Length: 63080, dtype: int64"
      ]
     },
     "execution_count": 68,
     "metadata": {},
     "output_type": "execute_result"
    }
   ],
   "source": [
    "data['start_lat'].value_counts()"
   ]
  },
  {
   "cell_type": "code",
   "execution_count": 69,
   "metadata": {},
   "outputs": [
    {
     "data": {
      "text/plain": [
       "-87.616743    3122\n",
       "-87.650000    3107\n",
       "-87.612043    2923\n",
       "-87.690000    2528\n",
       "-87.630000    2486\n",
       "              ... \n",
       "-87.640396       1\n",
       "-87.641650       1\n",
       "-87.706316       1\n",
       "-87.643175       1\n",
       "-87.697275       1\n",
       "Name: end_lng, Length: 62781, dtype: int64"
      ]
     },
     "execution_count": 69,
     "metadata": {},
     "output_type": "execute_result"
    }
   ],
   "source": [
    "data['end_lng'].value_counts()"
   ]
  },
  {
   "cell_type": "code",
   "execution_count": 70,
   "metadata": {},
   "outputs": [],
   "source": [
    "#most common station"
   ]
  },
  {
   "cell_type": "code",
   "execution_count": 71,
   "metadata": {},
   "outputs": [
    {
     "data": {
      "text/html": [
       "<div>\n",
       "<style scoped>\n",
       "    .dataframe tbody tr th:only-of-type {\n",
       "        vertical-align: middle;\n",
       "    }\n",
       "\n",
       "    .dataframe tbody tr th {\n",
       "        vertical-align: top;\n",
       "    }\n",
       "\n",
       "    .dataframe thead th {\n",
       "        text-align: right;\n",
       "    }\n",
       "</style>\n",
       "<table border=\"1\" class=\"dataframe\">\n",
       "  <thead>\n",
       "    <tr style=\"text-align: right;\">\n",
       "      <th></th>\n",
       "      <th>ride_id</th>\n",
       "      <th>rideable_type</th>\n",
       "      <th>started_at</th>\n",
       "      <th>ended_at</th>\n",
       "      <th>start_station_name</th>\n",
       "      <th>start_station_id</th>\n",
       "      <th>end_station_name</th>\n",
       "      <th>end_station_id</th>\n",
       "      <th>start_lat</th>\n",
       "      <th>start_lng</th>\n",
       "      <th>end_lat</th>\n",
       "      <th>end_lng</th>\n",
       "      <th>member_casual</th>\n",
       "      <th>day_of_week</th>\n",
       "      <th>journey_time</th>\n",
       "    </tr>\n",
       "  </thead>\n",
       "  <tbody>\n",
       "    <tr>\n",
       "      <th>0</th>\n",
       "      <td>6C992BD37A98A63F</td>\n",
       "      <td>classic_bike</td>\n",
       "      <td>2021-04-12 18:25:36</td>\n",
       "      <td>2021-04-12 18:56:55</td>\n",
       "      <td>State St &amp; Pearson St</td>\n",
       "      <td>TA1307000061</td>\n",
       "      <td>Southport Ave &amp; Waveland Ave</td>\n",
       "      <td>13235</td>\n",
       "      <td>41.897448</td>\n",
       "      <td>-87.628722</td>\n",
       "      <td>41.948150</td>\n",
       "      <td>-87.663940</td>\n",
       "      <td>member</td>\n",
       "      <td>0</td>\n",
       "      <td>0 days 00:31:19</td>\n",
       "    </tr>\n",
       "    <tr>\n",
       "      <th>1</th>\n",
       "      <td>1E0145613A209000</td>\n",
       "      <td>docked_bike</td>\n",
       "      <td>2021-04-27 17:27:11</td>\n",
       "      <td>2021-04-27 18:31:29</td>\n",
       "      <td>Dorchester Ave &amp; 49th St</td>\n",
       "      <td>KA1503000069</td>\n",
       "      <td>Dorchester Ave &amp; 49th St</td>\n",
       "      <td>KA1503000069</td>\n",
       "      <td>41.805772</td>\n",
       "      <td>-87.592464</td>\n",
       "      <td>41.805772</td>\n",
       "      <td>-87.592464</td>\n",
       "      <td>casual</td>\n",
       "      <td>1</td>\n",
       "      <td>0 days 01:04:18</td>\n",
       "    </tr>\n",
       "    <tr>\n",
       "      <th>2</th>\n",
       "      <td>E498E15508A80BAD</td>\n",
       "      <td>docked_bike</td>\n",
       "      <td>2021-04-03 12:42:45</td>\n",
       "      <td>2021-04-07 11:40:24</td>\n",
       "      <td>Loomis Blvd &amp; 84th St</td>\n",
       "      <td>20121</td>\n",
       "      <td>Loomis Blvd &amp; 84th St</td>\n",
       "      <td>20121</td>\n",
       "      <td>41.741487</td>\n",
       "      <td>-87.658410</td>\n",
       "      <td>41.741487</td>\n",
       "      <td>-87.658410</td>\n",
       "      <td>casual</td>\n",
       "      <td>5</td>\n",
       "      <td>3 days 22:57:39</td>\n",
       "    </tr>\n",
       "    <tr>\n",
       "      <th>3</th>\n",
       "      <td>1887262AD101C604</td>\n",
       "      <td>classic_bike</td>\n",
       "      <td>2021-04-17 09:17:42</td>\n",
       "      <td>2021-04-17 09:42:48</td>\n",
       "      <td>Honore St &amp; Division St</td>\n",
       "      <td>TA1305000034</td>\n",
       "      <td>Southport Ave &amp; Waveland Ave</td>\n",
       "      <td>13235</td>\n",
       "      <td>41.903119</td>\n",
       "      <td>-87.673935</td>\n",
       "      <td>41.948150</td>\n",
       "      <td>-87.663940</td>\n",
       "      <td>member</td>\n",
       "      <td>5</td>\n",
       "      <td>0 days 00:25:06</td>\n",
       "    </tr>\n",
       "    <tr>\n",
       "      <th>4</th>\n",
       "      <td>C123548CAB2A32A5</td>\n",
       "      <td>docked_bike</td>\n",
       "      <td>2021-04-03 12:42:25</td>\n",
       "      <td>2021-04-03 14:13:42</td>\n",
       "      <td>Loomis Blvd &amp; 84th St</td>\n",
       "      <td>20121</td>\n",
       "      <td>Loomis Blvd &amp; 84th St</td>\n",
       "      <td>20121</td>\n",
       "      <td>41.741487</td>\n",
       "      <td>-87.658410</td>\n",
       "      <td>41.741487</td>\n",
       "      <td>-87.658410</td>\n",
       "      <td>casual</td>\n",
       "      <td>5</td>\n",
       "      <td>0 days 01:31:17</td>\n",
       "    </tr>\n",
       "  </tbody>\n",
       "</table>\n",
       "</div>"
      ],
      "text/plain": [
       "            ride_id rideable_type          started_at            ended_at  \\\n",
       "0  6C992BD37A98A63F  classic_bike 2021-04-12 18:25:36 2021-04-12 18:56:55   \n",
       "1  1E0145613A209000   docked_bike 2021-04-27 17:27:11 2021-04-27 18:31:29   \n",
       "2  E498E15508A80BAD   docked_bike 2021-04-03 12:42:45 2021-04-07 11:40:24   \n",
       "3  1887262AD101C604  classic_bike 2021-04-17 09:17:42 2021-04-17 09:42:48   \n",
       "4  C123548CAB2A32A5   docked_bike 2021-04-03 12:42:25 2021-04-03 14:13:42   \n",
       "\n",
       "         start_station_name start_station_id              end_station_name  \\\n",
       "0     State St & Pearson St     TA1307000061  Southport Ave & Waveland Ave   \n",
       "1  Dorchester Ave & 49th St     KA1503000069      Dorchester Ave & 49th St   \n",
       "2     Loomis Blvd & 84th St            20121         Loomis Blvd & 84th St   \n",
       "3   Honore St & Division St     TA1305000034  Southport Ave & Waveland Ave   \n",
       "4     Loomis Blvd & 84th St            20121         Loomis Blvd & 84th St   \n",
       "\n",
       "  end_station_id  start_lat  start_lng    end_lat    end_lng member_casual  \\\n",
       "0          13235  41.897448 -87.628722  41.948150 -87.663940        member   \n",
       "1   KA1503000069  41.805772 -87.592464  41.805772 -87.592464        casual   \n",
       "2          20121  41.741487 -87.658410  41.741487 -87.658410        casual   \n",
       "3          13235  41.903119 -87.673935  41.948150 -87.663940        member   \n",
       "4          20121  41.741487 -87.658410  41.741487 -87.658410        casual   \n",
       "\n",
       "   day_of_week    journey_time  \n",
       "0            0 0 days 00:31:19  \n",
       "1            1 0 days 01:04:18  \n",
       "2            5 3 days 22:57:39  \n",
       "3            5 0 days 00:25:06  \n",
       "4            5 0 days 01:31:17  "
      ]
     },
     "execution_count": 71,
     "metadata": {},
     "output_type": "execute_result"
    }
   ],
   "source": [
    "data.head()"
   ]
  },
  {
   "cell_type": "code",
   "execution_count": 72,
   "metadata": {},
   "outputs": [],
   "source": [
    "# on the basis of weekday which ride is preferred more"
   ]
  },
  {
   "cell_type": "code",
   "execution_count": 73,
   "metadata": {},
   "outputs": [
    {
     "data": {
      "text/plain": [
       "classic_bike     28618\n",
       "electric_bike    12332\n",
       "docked_bike       2811\n",
       "Name: rideable_type, dtype: int64"
      ]
     },
     "execution_count": 73,
     "metadata": {},
     "output_type": "execute_result"
    }
   ],
   "source": [
    "data[data['day_of_week'] == 0]['rideable_type'].value_counts() # classic > electric > docked"
   ]
  },
  {
   "cell_type": "code",
   "execution_count": 74,
   "metadata": {},
   "outputs": [
    {
     "data": {
      "text/plain": [
       "classic_bike     33932\n",
       "electric_bike    14642\n",
       "docked_bike       3652\n",
       "Name: rideable_type, dtype: int64"
      ]
     },
     "execution_count": 74,
     "metadata": {},
     "output_type": "execute_result"
    }
   ],
   "source": [
    "data[data['day_of_week'] == 1]['rideable_type'].value_counts() # classic > electric > docked"
   ]
  },
  {
   "cell_type": "code",
   "execution_count": 75,
   "metadata": {},
   "outputs": [
    {
     "data": {
      "text/plain": [
       "classic_bike     24019\n",
       "electric_bike    11403\n",
       "docked_bike       1923\n",
       "Name: rideable_type, dtype: int64"
      ]
     },
     "execution_count": 75,
     "metadata": {},
     "output_type": "execute_result"
    }
   ],
   "source": [
    "data[data['day_of_week'] == 2]['rideable_type'].value_counts() # classic > electric > docked"
   ]
  },
  {
   "cell_type": "code",
   "execution_count": 76,
   "metadata": {},
   "outputs": [
    {
     "data": {
      "text/plain": [
       "classic_bike     25183\n",
       "electric_bike    13721\n",
       "docked_bike       1532\n",
       "Name: rideable_type, dtype: int64"
      ]
     },
     "execution_count": 76,
     "metadata": {},
     "output_type": "execute_result"
    }
   ],
   "source": [
    "data[data['day_of_week'] == 3]['rideable_type'].value_counts() # classic > electric > docked"
   ]
  },
  {
   "cell_type": "code",
   "execution_count": 77,
   "metadata": {},
   "outputs": [
    {
     "data": {
      "text/plain": [
       "classic_bike     36658\n",
       "electric_bike    18390\n",
       "docked_bike       3676\n",
       "Name: rideable_type, dtype: int64"
      ]
     },
     "execution_count": 77,
     "metadata": {},
     "output_type": "execute_result"
    }
   ],
   "source": [
    "data[data['day_of_week'] == 4]['rideable_type'].value_counts() # classis > electric > docked"
   ]
  },
  {
   "cell_type": "code",
   "execution_count": 78,
   "metadata": {},
   "outputs": [
    {
     "data": {
      "text/plain": [
       "classic_bike     34084\n",
       "electric_bike    14633\n",
       "docked_bike       5668\n",
       "Name: rideable_type, dtype: int64"
      ]
     },
     "execution_count": 78,
     "metadata": {},
     "output_type": "execute_result"
    }
   ],
   "source": [
    "data[data['day_of_week'] == 5]['rideable_type'].value_counts() # classic > electric > docked"
   ]
  },
  {
   "cell_type": "code",
   "execution_count": 79,
   "metadata": {},
   "outputs": [
    {
     "data": {
      "text/plain": [
       "classic_bike     32125\n",
       "electric_bike    12776\n",
       "docked_bike       5452\n",
       "Name: rideable_type, dtype: int64"
      ]
     },
     "execution_count": 79,
     "metadata": {},
     "output_type": "execute_result"
    }
   ],
   "source": [
    "data[data['day_of_week'] == 6]['rideable_type'].value_counts() #classic > electric >docked"
   ]
  },
  {
   "cell_type": "code",
   "execution_count": 80,
   "metadata": {},
   "outputs": [
    {
     "data": {
      "text/plain": [
       "ride_id               False\n",
       "rideable_type         False\n",
       "started_at            False\n",
       "ended_at              False\n",
       "start_station_name     True\n",
       "start_station_id       True\n",
       "end_station_name       True\n",
       "end_station_id         True\n",
       "start_lat             False\n",
       "start_lng             False\n",
       "end_lat                True\n",
       "end_lng                True\n",
       "member_casual         False\n",
       "day_of_week           False\n",
       "journey_time          False\n",
       "dtype: bool"
      ]
     },
     "execution_count": 80,
     "metadata": {},
     "output_type": "execute_result"
    }
   ],
   "source": [
    "data.isnull().any() # in which columns null values are present (true means it contains null values)"
   ]
  },
  {
   "cell_type": "code",
   "execution_count": 81,
   "metadata": {},
   "outputs": [
    {
     "data": {
      "text/html": [
       "<div>\n",
       "<style scoped>\n",
       "    .dataframe tbody tr th:only-of-type {\n",
       "        vertical-align: middle;\n",
       "    }\n",
       "\n",
       "    .dataframe tbody tr th {\n",
       "        vertical-align: top;\n",
       "    }\n",
       "\n",
       "    .dataframe thead th {\n",
       "        text-align: right;\n",
       "    }\n",
       "</style>\n",
       "<table border=\"1\" class=\"dataframe\">\n",
       "  <thead>\n",
       "    <tr style=\"text-align: right;\">\n",
       "      <th></th>\n",
       "      <th>ride_id</th>\n",
       "      <th>rideable_type</th>\n",
       "      <th>started_at</th>\n",
       "      <th>ended_at</th>\n",
       "      <th>start_station_name</th>\n",
       "      <th>start_station_id</th>\n",
       "      <th>end_station_name</th>\n",
       "      <th>end_station_id</th>\n",
       "      <th>start_lat</th>\n",
       "      <th>start_lng</th>\n",
       "      <th>end_lat</th>\n",
       "      <th>end_lng</th>\n",
       "      <th>member_casual</th>\n",
       "      <th>day_of_week</th>\n",
       "      <th>journey_time</th>\n",
       "    </tr>\n",
       "  </thead>\n",
       "  <tbody>\n",
       "    <tr>\n",
       "      <th>0</th>\n",
       "      <td>6C992BD37A98A63F</td>\n",
       "      <td>classic_bike</td>\n",
       "      <td>2021-04-12 18:25:36</td>\n",
       "      <td>2021-04-12 18:56:55</td>\n",
       "      <td>State St &amp; Pearson St</td>\n",
       "      <td>TA1307000061</td>\n",
       "      <td>Southport Ave &amp; Waveland Ave</td>\n",
       "      <td>13235</td>\n",
       "      <td>41.897448</td>\n",
       "      <td>-87.628722</td>\n",
       "      <td>41.948150</td>\n",
       "      <td>-87.663940</td>\n",
       "      <td>member</td>\n",
       "      <td>0</td>\n",
       "      <td>0 days 00:31:19</td>\n",
       "    </tr>\n",
       "    <tr>\n",
       "      <th>1</th>\n",
       "      <td>1E0145613A209000</td>\n",
       "      <td>docked_bike</td>\n",
       "      <td>2021-04-27 17:27:11</td>\n",
       "      <td>2021-04-27 18:31:29</td>\n",
       "      <td>Dorchester Ave &amp; 49th St</td>\n",
       "      <td>KA1503000069</td>\n",
       "      <td>Dorchester Ave &amp; 49th St</td>\n",
       "      <td>KA1503000069</td>\n",
       "      <td>41.805772</td>\n",
       "      <td>-87.592464</td>\n",
       "      <td>41.805772</td>\n",
       "      <td>-87.592464</td>\n",
       "      <td>casual</td>\n",
       "      <td>1</td>\n",
       "      <td>0 days 01:04:18</td>\n",
       "    </tr>\n",
       "    <tr>\n",
       "      <th>2</th>\n",
       "      <td>E498E15508A80BAD</td>\n",
       "      <td>docked_bike</td>\n",
       "      <td>2021-04-03 12:42:45</td>\n",
       "      <td>2021-04-07 11:40:24</td>\n",
       "      <td>Loomis Blvd &amp; 84th St</td>\n",
       "      <td>20121</td>\n",
       "      <td>Loomis Blvd &amp; 84th St</td>\n",
       "      <td>20121</td>\n",
       "      <td>41.741487</td>\n",
       "      <td>-87.658410</td>\n",
       "      <td>41.741487</td>\n",
       "      <td>-87.658410</td>\n",
       "      <td>casual</td>\n",
       "      <td>5</td>\n",
       "      <td>3 days 22:57:39</td>\n",
       "    </tr>\n",
       "    <tr>\n",
       "      <th>3</th>\n",
       "      <td>1887262AD101C604</td>\n",
       "      <td>classic_bike</td>\n",
       "      <td>2021-04-17 09:17:42</td>\n",
       "      <td>2021-04-17 09:42:48</td>\n",
       "      <td>Honore St &amp; Division St</td>\n",
       "      <td>TA1305000034</td>\n",
       "      <td>Southport Ave &amp; Waveland Ave</td>\n",
       "      <td>13235</td>\n",
       "      <td>41.903119</td>\n",
       "      <td>-87.673935</td>\n",
       "      <td>41.948150</td>\n",
       "      <td>-87.663940</td>\n",
       "      <td>member</td>\n",
       "      <td>5</td>\n",
       "      <td>0 days 00:25:06</td>\n",
       "    </tr>\n",
       "    <tr>\n",
       "      <th>4</th>\n",
       "      <td>C123548CAB2A32A5</td>\n",
       "      <td>docked_bike</td>\n",
       "      <td>2021-04-03 12:42:25</td>\n",
       "      <td>2021-04-03 14:13:42</td>\n",
       "      <td>Loomis Blvd &amp; 84th St</td>\n",
       "      <td>20121</td>\n",
       "      <td>Loomis Blvd &amp; 84th St</td>\n",
       "      <td>20121</td>\n",
       "      <td>41.741487</td>\n",
       "      <td>-87.658410</td>\n",
       "      <td>41.741487</td>\n",
       "      <td>-87.658410</td>\n",
       "      <td>casual</td>\n",
       "      <td>5</td>\n",
       "      <td>0 days 01:31:17</td>\n",
       "    </tr>\n",
       "  </tbody>\n",
       "</table>\n",
       "</div>"
      ],
      "text/plain": [
       "            ride_id rideable_type          started_at            ended_at  \\\n",
       "0  6C992BD37A98A63F  classic_bike 2021-04-12 18:25:36 2021-04-12 18:56:55   \n",
       "1  1E0145613A209000   docked_bike 2021-04-27 17:27:11 2021-04-27 18:31:29   \n",
       "2  E498E15508A80BAD   docked_bike 2021-04-03 12:42:45 2021-04-07 11:40:24   \n",
       "3  1887262AD101C604  classic_bike 2021-04-17 09:17:42 2021-04-17 09:42:48   \n",
       "4  C123548CAB2A32A5   docked_bike 2021-04-03 12:42:25 2021-04-03 14:13:42   \n",
       "\n",
       "         start_station_name start_station_id              end_station_name  \\\n",
       "0     State St & Pearson St     TA1307000061  Southport Ave & Waveland Ave   \n",
       "1  Dorchester Ave & 49th St     KA1503000069      Dorchester Ave & 49th St   \n",
       "2     Loomis Blvd & 84th St            20121         Loomis Blvd & 84th St   \n",
       "3   Honore St & Division St     TA1305000034  Southport Ave & Waveland Ave   \n",
       "4     Loomis Blvd & 84th St            20121         Loomis Blvd & 84th St   \n",
       "\n",
       "  end_station_id  start_lat  start_lng    end_lat    end_lng member_casual  \\\n",
       "0          13235  41.897448 -87.628722  41.948150 -87.663940        member   \n",
       "1   KA1503000069  41.805772 -87.592464  41.805772 -87.592464        casual   \n",
       "2          20121  41.741487 -87.658410  41.741487 -87.658410        casual   \n",
       "3          13235  41.903119 -87.673935  41.948150 -87.663940        member   \n",
       "4          20121  41.741487 -87.658410  41.741487 -87.658410        casual   \n",
       "\n",
       "   day_of_week    journey_time  \n",
       "0            0 0 days 00:31:19  \n",
       "1            1 0 days 01:04:18  \n",
       "2            5 3 days 22:57:39  \n",
       "3            5 0 days 00:25:06  \n",
       "4            5 0 days 01:31:17  "
      ]
     },
     "execution_count": 81,
     "metadata": {},
     "output_type": "execute_result"
    }
   ],
   "source": [
    "data.head()"
   ]
  },
  {
   "cell_type": "code",
   "execution_count": null,
   "metadata": {},
   "outputs": [],
   "source": []
  },
  {
   "cell_type": "code",
   "execution_count": 82,
   "metadata": {},
   "outputs": [
    {
     "data": {
      "text/html": [
       "<div>\n",
       "<style scoped>\n",
       "    .dataframe tbody tr th:only-of-type {\n",
       "        vertical-align: middle;\n",
       "    }\n",
       "\n",
       "    .dataframe tbody tr th {\n",
       "        vertical-align: top;\n",
       "    }\n",
       "\n",
       "    .dataframe thead th {\n",
       "        text-align: right;\n",
       "    }\n",
       "</style>\n",
       "<table border=\"1\" class=\"dataframe\">\n",
       "  <thead>\n",
       "    <tr style=\"text-align: right;\">\n",
       "      <th></th>\n",
       "      <th>ride_id</th>\n",
       "      <th>rideable_type</th>\n",
       "      <th>started_at</th>\n",
       "      <th>ended_at</th>\n",
       "      <th>start_station_name</th>\n",
       "      <th>start_station_id</th>\n",
       "      <th>end_station_name</th>\n",
       "      <th>end_station_id</th>\n",
       "      <th>start_lat</th>\n",
       "      <th>start_lng</th>\n",
       "      <th>end_lat</th>\n",
       "      <th>end_lng</th>\n",
       "      <th>member_casual</th>\n",
       "      <th>day_of_week</th>\n",
       "      <th>journey_time</th>\n",
       "    </tr>\n",
       "  </thead>\n",
       "  <tbody>\n",
       "    <tr>\n",
       "      <th>0</th>\n",
       "      <td>6C992BD37A98A63F</td>\n",
       "      <td>classic_bike</td>\n",
       "      <td>2021-04-12 18:25:36</td>\n",
       "      <td>2021-04-12 18:56:55</td>\n",
       "      <td>State St &amp; Pearson St</td>\n",
       "      <td>TA1307000061</td>\n",
       "      <td>Southport Ave &amp; Waveland Ave</td>\n",
       "      <td>13235</td>\n",
       "      <td>41.897448</td>\n",
       "      <td>-87.628722</td>\n",
       "      <td>41.948150</td>\n",
       "      <td>-87.663940</td>\n",
       "      <td>member</td>\n",
       "      <td>0</td>\n",
       "      <td>0 days 00:31:19</td>\n",
       "    </tr>\n",
       "    <tr>\n",
       "      <th>1</th>\n",
       "      <td>1E0145613A209000</td>\n",
       "      <td>docked_bike</td>\n",
       "      <td>2021-04-27 17:27:11</td>\n",
       "      <td>2021-04-27 18:31:29</td>\n",
       "      <td>Dorchester Ave &amp; 49th St</td>\n",
       "      <td>KA1503000069</td>\n",
       "      <td>Dorchester Ave &amp; 49th St</td>\n",
       "      <td>KA1503000069</td>\n",
       "      <td>41.805772</td>\n",
       "      <td>-87.592464</td>\n",
       "      <td>41.805772</td>\n",
       "      <td>-87.592464</td>\n",
       "      <td>casual</td>\n",
       "      <td>1</td>\n",
       "      <td>0 days 01:04:18</td>\n",
       "    </tr>\n",
       "    <tr>\n",
       "      <th>2</th>\n",
       "      <td>E498E15508A80BAD</td>\n",
       "      <td>docked_bike</td>\n",
       "      <td>2021-04-03 12:42:45</td>\n",
       "      <td>2021-04-07 11:40:24</td>\n",
       "      <td>Loomis Blvd &amp; 84th St</td>\n",
       "      <td>20121</td>\n",
       "      <td>Loomis Blvd &amp; 84th St</td>\n",
       "      <td>20121</td>\n",
       "      <td>41.741487</td>\n",
       "      <td>-87.658410</td>\n",
       "      <td>41.741487</td>\n",
       "      <td>-87.658410</td>\n",
       "      <td>casual</td>\n",
       "      <td>5</td>\n",
       "      <td>3 days 22:57:39</td>\n",
       "    </tr>\n",
       "    <tr>\n",
       "      <th>3</th>\n",
       "      <td>1887262AD101C604</td>\n",
       "      <td>classic_bike</td>\n",
       "      <td>2021-04-17 09:17:42</td>\n",
       "      <td>2021-04-17 09:42:48</td>\n",
       "      <td>Honore St &amp; Division St</td>\n",
       "      <td>TA1305000034</td>\n",
       "      <td>Southport Ave &amp; Waveland Ave</td>\n",
       "      <td>13235</td>\n",
       "      <td>41.903119</td>\n",
       "      <td>-87.673935</td>\n",
       "      <td>41.948150</td>\n",
       "      <td>-87.663940</td>\n",
       "      <td>member</td>\n",
       "      <td>5</td>\n",
       "      <td>0 days 00:25:06</td>\n",
       "    </tr>\n",
       "    <tr>\n",
       "      <th>4</th>\n",
       "      <td>C123548CAB2A32A5</td>\n",
       "      <td>docked_bike</td>\n",
       "      <td>2021-04-03 12:42:25</td>\n",
       "      <td>2021-04-03 14:13:42</td>\n",
       "      <td>Loomis Blvd &amp; 84th St</td>\n",
       "      <td>20121</td>\n",
       "      <td>Loomis Blvd &amp; 84th St</td>\n",
       "      <td>20121</td>\n",
       "      <td>41.741487</td>\n",
       "      <td>-87.658410</td>\n",
       "      <td>41.741487</td>\n",
       "      <td>-87.658410</td>\n",
       "      <td>casual</td>\n",
       "      <td>5</td>\n",
       "      <td>0 days 01:31:17</td>\n",
       "    </tr>\n",
       "  </tbody>\n",
       "</table>\n",
       "</div>"
      ],
      "text/plain": [
       "            ride_id rideable_type          started_at            ended_at  \\\n",
       "0  6C992BD37A98A63F  classic_bike 2021-04-12 18:25:36 2021-04-12 18:56:55   \n",
       "1  1E0145613A209000   docked_bike 2021-04-27 17:27:11 2021-04-27 18:31:29   \n",
       "2  E498E15508A80BAD   docked_bike 2021-04-03 12:42:45 2021-04-07 11:40:24   \n",
       "3  1887262AD101C604  classic_bike 2021-04-17 09:17:42 2021-04-17 09:42:48   \n",
       "4  C123548CAB2A32A5   docked_bike 2021-04-03 12:42:25 2021-04-03 14:13:42   \n",
       "\n",
       "         start_station_name start_station_id              end_station_name  \\\n",
       "0     State St & Pearson St     TA1307000061  Southport Ave & Waveland Ave   \n",
       "1  Dorchester Ave & 49th St     KA1503000069      Dorchester Ave & 49th St   \n",
       "2     Loomis Blvd & 84th St            20121         Loomis Blvd & 84th St   \n",
       "3   Honore St & Division St     TA1305000034  Southport Ave & Waveland Ave   \n",
       "4     Loomis Blvd & 84th St            20121         Loomis Blvd & 84th St   \n",
       "\n",
       "  end_station_id  start_lat  start_lng    end_lat    end_lng member_casual  \\\n",
       "0          13235  41.897448 -87.628722  41.948150 -87.663940        member   \n",
       "1   KA1503000069  41.805772 -87.592464  41.805772 -87.592464        casual   \n",
       "2          20121  41.741487 -87.658410  41.741487 -87.658410        casual   \n",
       "3          13235  41.903119 -87.673935  41.948150 -87.663940        member   \n",
       "4          20121  41.741487 -87.658410  41.741487 -87.658410        casual   \n",
       "\n",
       "   day_of_week    journey_time  \n",
       "0            0 0 days 00:31:19  \n",
       "1            1 0 days 01:04:18  \n",
       "2            5 3 days 22:57:39  \n",
       "3            5 0 days 00:25:06  \n",
       "4            5 0 days 01:31:17  "
      ]
     },
     "execution_count": 82,
     "metadata": {},
     "output_type": "execute_result"
    }
   ],
   "source": [
    "data.head()"
   ]
  },
  {
   "cell_type": "code",
   "execution_count": 83,
   "metadata": {},
   "outputs": [],
   "source": [
    "# average journey duration for each bike"
   ]
  },
  {
   "cell_type": "code",
   "execution_count": 84,
   "metadata": {},
   "outputs": [
    {
     "data": {
      "text/plain": [
       "Timedelta('0 days 01:23:32.767419276')"
      ]
     },
     "execution_count": 84,
     "metadata": {},
     "output_type": "execute_result"
    }
   ],
   "source": [
    "data[data['rideable_type'] == 'docked_bike']['journey_time'].mean()"
   ]
  },
  {
   "cell_type": "code",
   "execution_count": 85,
   "metadata": {},
   "outputs": [
    {
     "data": {
      "text/plain": [
       "Timedelta('0 days 00:20:26.271439154')"
      ]
     },
     "execution_count": 85,
     "metadata": {},
     "output_type": "execute_result"
    }
   ],
   "source": [
    "data[data['rideable_type'] == 'classic_bike']['journey_time'].mean()"
   ]
  },
  {
   "cell_type": "code",
   "execution_count": 86,
   "metadata": {},
   "outputs": [
    {
     "data": {
      "text/plain": [
       "Timedelta('0 days 00:17:15.704444467')"
      ]
     },
     "execution_count": 86,
     "metadata": {},
     "output_type": "execute_result"
    }
   ],
   "source": [
    "data[data['rideable_type'] == 'electric_bike']['journey_time'].mean()"
   ]
  },
  {
   "cell_type": "code",
   "execution_count": 87,
   "metadata": {},
   "outputs": [],
   "source": [
    "# groupby us"
   ]
  },
  {
   "cell_type": "code",
   "execution_count": 88,
   "metadata": {},
   "outputs": [],
   "source": [
    "data_rideable = data.groupby('rideable_type')"
   ]
  },
  {
   "cell_type": "code",
   "execution_count": 89,
   "metadata": {},
   "outputs": [
    {
     "data": {
      "text/html": [
       "<div>\n",
       "<style scoped>\n",
       "    .dataframe tbody tr th:only-of-type {\n",
       "        vertical-align: middle;\n",
       "    }\n",
       "\n",
       "    .dataframe tbody tr th {\n",
       "        vertical-align: top;\n",
       "    }\n",
       "\n",
       "    .dataframe thead th {\n",
       "        text-align: right;\n",
       "    }\n",
       "</style>\n",
       "<table border=\"1\" class=\"dataframe\">\n",
       "  <thead>\n",
       "    <tr style=\"text-align: right;\">\n",
       "      <th></th>\n",
       "      <th>start_lat</th>\n",
       "      <th>start_lng</th>\n",
       "      <th>end_lat</th>\n",
       "      <th>end_lng</th>\n",
       "      <th>day_of_week</th>\n",
       "    </tr>\n",
       "    <tr>\n",
       "      <th>rideable_type</th>\n",
       "      <th></th>\n",
       "      <th></th>\n",
       "      <th></th>\n",
       "      <th></th>\n",
       "      <th></th>\n",
       "    </tr>\n",
       "  </thead>\n",
       "  <tbody>\n",
       "    <tr>\n",
       "      <th>classic_bike</th>\n",
       "      <td>41.902428</td>\n",
       "      <td>-87.643088</td>\n",
       "      <td>41.902872</td>\n",
       "      <td>-87.643403</td>\n",
       "      <td>3.109329</td>\n",
       "    </tr>\n",
       "    <tr>\n",
       "      <th>docked_bike</th>\n",
       "      <td>41.894642</td>\n",
       "      <td>-87.634425</td>\n",
       "      <td>41.895211</td>\n",
       "      <td>-87.634811</td>\n",
       "      <td>3.554665</td>\n",
       "    </tr>\n",
       "    <tr>\n",
       "      <th>electric_bike</th>\n",
       "      <td>41.901155</td>\n",
       "      <td>-87.651296</td>\n",
       "      <td>41.901394</td>\n",
       "      <td>-87.651489</td>\n",
       "      <td>3.084793</td>\n",
       "    </tr>\n",
       "  </tbody>\n",
       "</table>\n",
       "</div>"
      ],
      "text/plain": [
       "               start_lat  start_lng    end_lat    end_lng  day_of_week\n",
       "rideable_type                                                         \n",
       "classic_bike   41.902428 -87.643088  41.902872 -87.643403     3.109329\n",
       "docked_bike    41.894642 -87.634425  41.895211 -87.634811     3.554665\n",
       "electric_bike  41.901155 -87.651296  41.901394 -87.651489     3.084793"
      ]
     },
     "execution_count": 89,
     "metadata": {},
     "output_type": "execute_result"
    }
   ],
   "source": [
    "data_rideable.mean()"
   ]
  },
  {
   "cell_type": "code",
   "execution_count": 90,
   "metadata": {},
   "outputs": [
    {
     "data": {
      "text/html": [
       "<div>\n",
       "<style scoped>\n",
       "    .dataframe tbody tr th:only-of-type {\n",
       "        vertical-align: middle;\n",
       "    }\n",
       "\n",
       "    .dataframe tbody tr th {\n",
       "        vertical-align: top;\n",
       "    }\n",
       "\n",
       "    .dataframe thead th {\n",
       "        text-align: right;\n",
       "    }\n",
       "</style>\n",
       "<table border=\"1\" class=\"dataframe\">\n",
       "  <thead>\n",
       "    <tr style=\"text-align: right;\">\n",
       "      <th></th>\n",
       "      <th>ride_id</th>\n",
       "      <th>started_at</th>\n",
       "      <th>ended_at</th>\n",
       "      <th>start_station_name</th>\n",
       "      <th>start_station_id</th>\n",
       "      <th>end_station_name</th>\n",
       "      <th>end_station_id</th>\n",
       "      <th>start_lat</th>\n",
       "      <th>start_lng</th>\n",
       "      <th>end_lat</th>\n",
       "      <th>end_lng</th>\n",
       "      <th>member_casual</th>\n",
       "      <th>day_of_week</th>\n",
       "      <th>journey_time</th>\n",
       "    </tr>\n",
       "    <tr>\n",
       "      <th>rideable_type</th>\n",
       "      <th></th>\n",
       "      <th></th>\n",
       "      <th></th>\n",
       "      <th></th>\n",
       "      <th></th>\n",
       "      <th></th>\n",
       "      <th></th>\n",
       "      <th></th>\n",
       "      <th></th>\n",
       "      <th></th>\n",
       "      <th></th>\n",
       "      <th></th>\n",
       "      <th></th>\n",
       "      <th></th>\n",
       "    </tr>\n",
       "  </thead>\n",
       "  <tbody>\n",
       "    <tr>\n",
       "      <th>classic_bike</th>\n",
       "      <td>214619</td>\n",
       "      <td>214619</td>\n",
       "      <td>214619</td>\n",
       "      <td>214619</td>\n",
       "      <td>214619</td>\n",
       "      <td>214128</td>\n",
       "      <td>214128</td>\n",
       "      <td>214619</td>\n",
       "      <td>214619</td>\n",
       "      <td>214352</td>\n",
       "      <td>214352</td>\n",
       "      <td>214619</td>\n",
       "      <td>214619</td>\n",
       "      <td>214619</td>\n",
       "    </tr>\n",
       "    <tr>\n",
       "      <th>docked_bike</th>\n",
       "      <td>24714</td>\n",
       "      <td>24714</td>\n",
       "      <td>24714</td>\n",
       "      <td>24714</td>\n",
       "      <td>24714</td>\n",
       "      <td>24714</td>\n",
       "      <td>24714</td>\n",
       "      <td>24714</td>\n",
       "      <td>24714</td>\n",
       "      <td>24714</td>\n",
       "      <td>24714</td>\n",
       "      <td>24714</td>\n",
       "      <td>24714</td>\n",
       "      <td>24714</td>\n",
       "    </tr>\n",
       "    <tr>\n",
       "      <th>electric_bike</th>\n",
       "      <td>97897</td>\n",
       "      <td>97897</td>\n",
       "      <td>97897</td>\n",
       "      <td>71841</td>\n",
       "      <td>71841</td>\n",
       "      <td>70214</td>\n",
       "      <td>70214</td>\n",
       "      <td>97897</td>\n",
       "      <td>97897</td>\n",
       "      <td>97897</td>\n",
       "      <td>97897</td>\n",
       "      <td>97897</td>\n",
       "      <td>97897</td>\n",
       "      <td>97897</td>\n",
       "    </tr>\n",
       "  </tbody>\n",
       "</table>\n",
       "</div>"
      ],
      "text/plain": [
       "               ride_id  started_at  ended_at  start_station_name  \\\n",
       "rideable_type                                                      \n",
       "classic_bike    214619      214619    214619              214619   \n",
       "docked_bike      24714       24714     24714               24714   \n",
       "electric_bike    97897       97897     97897               71841   \n",
       "\n",
       "               start_station_id  end_station_name  end_station_id  start_lat  \\\n",
       "rideable_type                                                                  \n",
       "classic_bike             214619            214128          214128     214619   \n",
       "docked_bike               24714             24714           24714      24714   \n",
       "electric_bike             71841             70214           70214      97897   \n",
       "\n",
       "               start_lng  end_lat  end_lng  member_casual  day_of_week  \\\n",
       "rideable_type                                                            \n",
       "classic_bike      214619   214352   214352         214619       214619   \n",
       "docked_bike        24714    24714    24714          24714        24714   \n",
       "electric_bike      97897    97897    97897          97897        97897   \n",
       "\n",
       "               journey_time  \n",
       "rideable_type                \n",
       "classic_bike         214619  \n",
       "docked_bike           24714  \n",
       "electric_bike         97897  "
      ]
     },
     "execution_count": 90,
     "metadata": {},
     "output_type": "execute_result"
    }
   ],
   "source": [
    "data_rideable.count() # classic > docked > electric"
   ]
  },
  {
   "cell_type": "code",
   "execution_count": null,
   "metadata": {},
   "outputs": [],
   "source": []
  },
  {
   "cell_type": "code",
   "execution_count": null,
   "metadata": {},
   "outputs": [],
   "source": []
  },
  {
   "cell_type": "code",
   "execution_count": null,
   "metadata": {},
   "outputs": [],
   "source": []
  }
 ],
 "metadata": {
  "kernelspec": {
   "display_name": "Python 3",
   "language": "python",
   "name": "python3"
  },
  "language_info": {
   "codemirror_mode": {
    "name": "ipython",
    "version": 3
   },
   "file_extension": ".py",
   "mimetype": "text/x-python",
   "name": "python",
   "nbconvert_exporter": "python",
   "pygments_lexer": "ipython3",
   "version": "3.8.5"
  }
 },
 "nbformat": 4,
 "nbformat_minor": 4
}
